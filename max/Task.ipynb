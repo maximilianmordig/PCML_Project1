{
 "cells": [
  {
   "cell_type": "code",
   "execution_count": 206,
   "metadata": {
    "collapsed": false
   },
   "outputs": [
    {
     "name": "stdout",
     "output_type": "stream",
     "text": [
      "The autoreload extension is already loaded. To reload it, use:\n",
      "  %reload_ext autoreload\n"
     ]
    }
   ],
   "source": [
    "# Useful starting lines\n",
    "%matplotlib inline\n",
    "import numpy as np\n",
    "import matplotlib.pyplot as plt\n",
    "%load_ext autoreload\n",
    "%autoreload 2"
   ]
  },
  {
   "cell_type": "markdown",
   "metadata": {},
   "source": [
    "# Load data"
   ]
  },
  {
   "cell_type": "code",
   "execution_count": 3,
   "metadata": {
    "collapsed": true
   },
   "outputs": [],
   "source": [
    "from helpers import *\n",
    "from model_learning import *\n",
    "import datetime"
   ]
  },
  {
   "cell_type": "code",
   "execution_count": 4,
   "metadata": {
    "collapsed": false
   },
   "outputs": [],
   "source": [
    "filename = 'train.csv'\n",
    "prediction, x_raw, ids = load_csv_data(filename, sub_sample=False)"
   ]
  },
  {
   "cell_type": "markdown",
   "metadata": {},
   "source": [
    "# Data Exploration"
   ]
  },
  {
   "cell_type": "code",
   "execution_count": 88,
   "metadata": {
    "collapsed": false
   },
   "outputs": [
    {
     "data": {
      "image/png": "[encoded data removed]",
      "text/plain": [
       "<matplotlib.figure.Figure at 0x7f51259e35f8>"
      ]
     },
     "metadata": {},
     "output_type": "display_data"
    }
   ],
   "source": [
    "# get the na count per row\n",
    "naCount = np.sum(x_raw == -999, axis=1)\n",
    "naCountWithPred = naCount[prediction == 1] # where higgs boson was predicted\n",
    "#print((naCount[naCount == 7]).shape)\n",
    "plt.hist(naCount, label='all observations')\n",
    "plt.hist(naCountWithPred, label='Higgs boson predicted')\n",
    "plt.legend(loc='best')\n",
    "plt.xlabel('# NAs')\n",
    "plt.ylabel('frequency')\n",
    "plt.show()"
   ]
  },
  {
   "cell_type": "code",
   "execution_count": 91,
   "metadata": {
    "collapsed": false
   },
   "outputs": [],
   "source": [
    "featuresToIgnore = []#[8, 23] # starting from zero #[2, 3, 5, 9, 21, 22, 29] #"
   ]
  },
  {
   "cell_type": "code",
   "execution_count": 168,
   "metadata": {
    "collapsed": true
   },
   "outputs": [],
   "source": [
    "# replace missing values in each column with median value in this column\n",
    "def interpolate_with_median(x_raw):\n",
    "    medians_xraw = np.median(x_raw, axis=0)\n",
    "    x_proc = x_raw\n",
    "\n",
    "    for col_index in range(x_raw.shape[1]):\n",
    "        x_proc[x_raw[:, col_index] == -999, col_index] = medians_xraw[col_index]\n",
    "        \n",
    "    return x_proc\n",
    "\n",
    "# remove unwanted features\n",
    "def remove_features(x):\n",
    "    \n",
    "    x_proc = np.delete(x, featuresToIgnore, axis=1)\n",
    "    \n",
    "    return x_proc\n",
    "\n",
    "#\n",
    "def clean_data_and_standardize(x_raw, varianceToKeep, toPCABasis_fcn, mean_x=None, std_x=None):\n",
    "    \"\"\"\n",
    "    toPCABasis is a function that returns the data after PCA dimensional reduction\n",
    "    \"\"\"\n",
    "    \n",
    "    x_proc = interpolate_with_median(x_raw)\n",
    "    \n",
    "    #x_proc2 = remove_features(x_proc)\n",
    "    \n",
    "    if varianceToKeep is not None:\n",
    "        if toPCABasis_fcn is not None:\n",
    "            print(\"Error: PCA basis should not be given - ignoring\")\n",
    "        toPCABasis_fcn = pca(x_proc, varianceToKeep = varianceToKeep)\n",
    "    else:\n",
    "        if (toPCABasis_fcn is None) or (mean_x is None) or (std_x is None):\n",
    "            print(\"Error: should specify PCA basis, mean and std of data (used to transform training.csv)\")\n",
    "    \n",
    "    x_proc2 = toPCABasis_fcn(x_proc)\n",
    "    \n",
    "    tx, mean_x, std_x = standardize(x_proc2, mean_x, std_x)\n",
    "    \n",
    "    return (tx, mean_x, std_x, toPCABasis_fcn)\n",
    "\n",
    "def pca(data, varianceToKeep):\n",
    "    \"\"\" varianceToKeep is the fraction variance we want to keep wished, it can be at most 1\n",
    "    varianceToKeep = 1 means we don't reduce the number of features\n",
    "    \n",
    "    Implementation follows the mathematical explanation from\n",
    "    https://en.wikipedia.org/wiki/Principal_component_analysis\n",
    "    \"\"\"\n",
    "    \n",
    "    # make data have mean 0\n",
    "    data_mean = np.mean(data, axis=0)\n",
    "        \n",
    "    X = data - data_mean\n",
    "    covar = X.T @ X\n",
    "    # find largest eigenvalues, svd does this\n",
    "    u, s, v = np.linalg.svd(covar)\n",
    "    retained_variance = np.cumsum(s) / np.sum(s)\n",
    "    new_PCA_basis = u[:, retained_variance <= varianceToKeep]\n",
    "    \n",
    "    # apply this function to X\n",
    "    convertToPCA = lambda X1 : (X1 - data_mean) @ new_PCA_basis\n",
    "    return convertToPCA\n",
    "    \n",
    "    "
   ]
  },
  {
   "cell_type": "code",
   "execution_count": 169,
   "metadata": {
    "collapsed": false
   },
   "outputs": [
    {
     "name": "stdout",
     "output_type": "stream",
     "text": [
      "(250000, 30)\n"
     ]
    },
    {
     "data": {
      "text/plain": [
       "(250000, 12)"
      ]
     },
     "execution_count": 169,
     "metadata": {},
     "output_type": "execute_result"
    }
   ],
   "source": [
    "print(x_raw.shape)\n",
    "(tx, mean_x, std_x, toPCABasis_fcn) = clean_data_and_standardize(\n",
    "    x_raw, varianceToKeep=0.9999, toPCABasis_fcn=None)\n",
    "\n",
    "tx.shape"
   ]
  },
  {
   "cell_type": "code",
   "execution_count": 124,
   "metadata": {
    "collapsed": false
   },
   "outputs": [
    {
     "data": {
      "text/plain": [
       "array([     0,      0,      0,      0, 177457, 177457, 177457,      0,\n",
       "            0,      0,      0,      0, 177457,      0,      0,      0,\n",
       "            0,      0,      0,      0,      0,      0,      0,      0,\n",
       "            0,      0, 177457, 177457, 177457,      0])"
      ]
     },
     "execution_count": 124,
     "metadata": {},
     "output_type": "execute_result"
    }
   ],
   "source": [
    "nans_per_column = np.sum(x_raw == -999, axis=0)\n",
    "# TODO: test if it changes if we remove the features that have many nans for all data\n",
    "\n",
    "nans_per_column"
   ]
  },
  {
   "cell_type": "code",
   "execution_count": 128,
   "metadata": {
    "collapsed": false
   },
   "outputs": [
    {
     "name": "stdout",
     "output_type": "stream",
     "text": [
      "(30, 12)\n",
      "(250000, 12)\n"
     ]
    }
   ],
   "source": [
    "transf_data, new_base = pca(x_raw, varianceToKeep = 0.9999)\n",
    "print(new_base.shape)\n",
    "print(transf_data.shape)"
   ]
  },
  {
   "cell_type": "code",
   "execution_count": 82,
   "metadata": {
    "collapsed": false
   },
   "outputs": [],
   "source": [
    "# replace missing values in each column with median value in this column\n",
    "x_proc = interpolate_with_median(x_raw)\n",
    "\n",
    "# check\n",
    "# x_proc[x_raw[:, col_index] == -999, :]"
   ]
  },
  {
   "cell_type": "code",
   "execution_count": 132,
   "metadata": {
    "collapsed": false
   },
   "outputs": [
    {
     "name": "stdout",
     "output_type": "stream",
     "text": [
      "(250000, 30)\n",
      "0.2: proc: (30, 0), raw: (30, 0)\n",
      "0.4: proc: (30, 0), raw: (30, 0)\n",
      "0.5: proc: (30, 0), raw: (30, 0)\n",
      "0.6: proc: (30, 0), raw: (30, 0)\n",
      "0.7: proc: (30, 0), raw: (30, 0)\n",
      "0.8: proc: (30, 0), raw: (30, 0)\n",
      "0.9: proc: (30, 0), raw: (30, 0)\n",
      "0.99: proc: (30, 2), raw: (30, 2)\n",
      "0.999: proc: (30, 7), raw: (30, 7)\n",
      "0.9999: proc: (30, 12), raw: (30, 12)\n",
      "0.99999: proc: (30, 15), raw: (30, 15)\n",
      "1: proc: (30, 30), raw: (30, 30)\n"
     ]
    }
   ],
   "source": [
    "print(x_proc.shape)\n",
    "for variance in [0.2, 0.4, 0.5, 0.6, 0.7, 0.8, 0.9, 0.99, 0.999, 0.9999, 0.99999, 1]:\n",
    "    transf_data, new_base = pca(x_proc, varianceToKeep = variance)\n",
    "    transf_data_raw, new_base_raw = pca(x_raw, varianceToKeep = variance)\n",
    "\n",
    "    print(\"{}: proc: {}\".format(variance, new_base.shape), end=', ')\n",
    "    print(\"raw: {}\".format(new_base_raw.shape))\n",
    "    #print(transf_data.shape)"
   ]
  },
  {
   "cell_type": "code",
   "execution_count": null,
   "metadata": {
    "collapsed": true
   },
   "outputs": [],
   "source": [
    "transf_data_raw, new_base_raw = pca(x_raw, varianceToKeep = 0.999)"
   ]
  },
  {
   "cell_type": "code",
   "execution_count": 126,
   "metadata": {
    "collapsed": false
   },
   "outputs": [
    {
     "data": {
      "image/png": "[encoded data removed]",
      "text/plain": [
       "<matplotlib.figure.Figure at 0x7fedf1c38160>"
      ]
     },
     "metadata": {},
     "output_type": "display_data"
    }
   ],
   "source": [
    "# plot histogram of features\n",
    "\n",
    "nbFeatures = x_raw.shape[1]\n",
    "nbCols = 4\n",
    "nbRows = int(np.ceil(nbFeatures / nbCols))\n",
    "f, ax = plt.subplots(nbRows, nbCols, figsize=(20,20))\n",
    "for col_index in range(nbFeatures):\n",
    "    ax_spec = ax[col_index // nbCols, col_index % nbCols]\n",
    "    ax_spec.hist(\n",
    "            [x_raw[:, col_index], x_proc[:, col_index]], label=['raw', 'proc'], alpha=0.7)\n",
    "    #plt.hist(x_proc[:, col_index], label='proc', alpha=0.5)\n",
    "    ax_spec.legend(loc='best')\n",
    "    ax_spec.set_title(\"feature #{}\".format(col_index))\n",
    "    #break\n",
    "#f.show()"
   ]
  },
  {
   "cell_type": "code",
   "execution_count": 94,
   "metadata": {
    "collapsed": false
   },
   "outputs": [
    {
     "data": {
      "text/plain": [
       "array([], shape=(0, 30), dtype=float64)"
      ]
     },
     "execution_count": 94,
     "metadata": {},
     "output_type": "execute_result"
    }
   ],
   "source": [
    "# safety check\n",
    "x_proc[x_proc[:, col_index] < 0, :]"
   ]
  },
  {
   "cell_type": "code",
   "execution_count": 95,
   "metadata": {
    "collapsed": false
   },
   "outputs": [
    {
     "name": "stdout",
     "output_type": "stream",
     "text": [
      "(250000, 30)\n",
      "(250000, 28)\n"
     ]
    }
   ],
   "source": [
    "# ignore features according to above\n",
    "#featuresToIgnore = [8, 23] # starting from zero\n",
    "x_proc2 = remove_features(x_proc)\n",
    "\n",
    "print(x_proc.shape)\n",
    "print(x_proc2.shape)"
   ]
  },
  {
   "cell_type": "code",
   "execution_count": 97,
   "metadata": {
    "collapsed": false
   },
   "outputs": [
    {
     "data": {
      "text/plain": [
       "(250000, 28)"
      ]
     },
     "execution_count": 97,
     "metadata": {},
     "output_type": "execute_result"
    }
   ],
   "source": [
    "tx, mean_x, std_x = standardize(x_proc2)\n",
    "\n",
    "txff,_,_ = clean_data_and_standardize(x_proc)\n",
    "if np.any(np.any(txff - tx)) != 0:\n",
    "    print(\"error\")\n",
    "\n",
    "txff - tx\n",
    "tx.shape"
   ]
  },
  {
   "cell_type": "code",
   "execution_count": 415,
   "metadata": {
    "collapsed": false
   },
   "outputs": [
    {
     "data": {
      "text/plain": [
       "PCA(copy=True, n_components=2, whiten=False)"
      ]
     },
     "execution_count": 415,
     "metadata": {},
     "output_type": "execute_result"
    }
   ],
   "source": [
    "# not used\n",
    "from sklearn.decomposition import PCA\n",
    "pca = PCA(n_components=2)\n",
    "pca.fit(x_proc.T)"
   ]
  },
  {
   "cell_type": "code",
   "execution_count": 416,
   "metadata": {
    "collapsed": false
   },
   "outputs": [
    {
     "name": "stdout",
     "output_type": "stream",
     "text": [
      "[ 0.96367082  0.02784767]\n",
      "[  3.41575751e+10   9.87068263e+08]\n",
      "(2, 250000)\n"
     ]
    }
   ],
   "source": [
    "print(pca.explained_variance_ratio_)\n",
    "print(pca.explained_variance_)\n",
    "print(pca.components_.shape)"
   ]
  },
  {
   "cell_type": "code",
   "execution_count": 178,
   "metadata": {
    "collapsed": true
   },
   "outputs": [],
   "source": [
    "def sample_data(x, seed, size_samples):\n",
    "    \"\"\"sample from dataset.\"\"\"\n",
    "    np.random.seed(seed)\n",
    "    num_observations = x.shape[0]\n",
    "    random_permuted_indices = np.random.permutation(num_observations)\n",
    "    #y = y[random_permuted_indices]\n",
    "    x = x[random_permuted_indices]\n",
    "    return x[:size_samples] #y[:size_samples], "
   ]
  },
  {
   "cell_type": "code",
   "execution_count": 214,
   "metadata": {
    "collapsed": false
   },
   "outputs": [
    {
     "ename": "IndexError",
     "evalue": "index out of range",
     "output_type": "error",
     "traceback": [
      "\u001b[1;31m---------------------------------------------------------------------------\u001b[0m",
      "\u001b[1;31mIndexError\u001b[0m                                Traceback (most recent call last)",
      "\u001b[1;32m<ipython-input-214-b506d7b6be97>\u001b[0m in \u001b[0;36m<module>\u001b[1;34m()\u001b[0m\n\u001b[0;32m      5\u001b[0m \u001b[0mnbCols\u001b[0m \u001b[1;33m=\u001b[0m \u001b[1;36m4\u001b[0m\u001b[1;33m\u001b[0m\u001b[0m\n\u001b[0;32m      6\u001b[0m \u001b[0mnbRows\u001b[0m \u001b[1;33m=\u001b[0m \u001b[0mint\u001b[0m\u001b[1;33m(\u001b[0m\u001b[0mnp\u001b[0m\u001b[1;33m.\u001b[0m\u001b[0mceil\u001b[0m\u001b[1;33m(\u001b[0m\u001b[0mnbFeatures\u001b[0m \u001b[1;33m*\u001b[0m \u001b[0mnbFeatures\u001b[0m \u001b[1;33m/\u001b[0m \u001b[0mnbCols\u001b[0m\u001b[1;33m)\u001b[0m\u001b[1;33m)\u001b[0m\u001b[1;33m\u001b[0m\u001b[0m\n\u001b[1;32m----> 7\u001b[1;33m \u001b[0mf\u001b[0m\u001b[1;33m,\u001b[0m \u001b[0max\u001b[0m \u001b[1;33m=\u001b[0m \u001b[0mplt\u001b[0m\u001b[1;33m.\u001b[0m\u001b[0msubplots\u001b[0m\u001b[1;33m(\u001b[0m\u001b[0mnbRows\u001b[0m\u001b[1;33m,\u001b[0m \u001b[0mnbCols\u001b[0m\u001b[1;33m,\u001b[0m \u001b[0mfigsize\u001b[0m\u001b[1;33m=\u001b[0m\u001b[1;33m(\u001b[0m\u001b[1;36m20\u001b[0m\u001b[1;33m,\u001b[0m \u001b[1;36m5\u001b[0m \u001b[1;33m*\u001b[0m \u001b[0mnbRows\u001b[0m\u001b[1;33m)\u001b[0m\u001b[1;33m)\u001b[0m\u001b[1;33m\u001b[0m\u001b[0m\n\u001b[0m\u001b[0;32m      8\u001b[0m \u001b[1;32mfor\u001b[0m \u001b[0mfeat1\u001b[0m \u001b[1;32min\u001b[0m \u001b[0mrange\u001b[0m\u001b[1;33m(\u001b[0m\u001b[0mnbFeatures\u001b[0m\u001b[1;33m)\u001b[0m\u001b[1;33m:\u001b[0m\u001b[1;33m\u001b[0m\u001b[0m\n\u001b[0;32m      9\u001b[0m     \u001b[0mprint\u001b[0m\u001b[1;33m(\u001b[0m\u001b[1;34m\"feature #{}\"\u001b[0m\u001b[1;33m.\u001b[0m\u001b[0mformat\u001b[0m\u001b[1;33m(\u001b[0m\u001b[0mfeat1\u001b[0m\u001b[1;33m)\u001b[0m\u001b[1;33m)\u001b[0m\u001b[1;33m\u001b[0m\u001b[0m\n",
      "\u001b[1;32m/home/maximilian/anaconda3/lib/python3.5/site-packages/matplotlib/pyplot.py\u001b[0m in \u001b[0;36msubplots\u001b[1;34m(nrows, ncols, sharex, sharey, squeeze, subplot_kw, gridspec_kw, **fig_kw)\u001b[0m\n\u001b[0;32m   1184\u001b[0m \u001b[1;33m\u001b[0m\u001b[0m\n\u001b[0;32m   1185\u001b[0m     \u001b[1;31m# Create first subplot separately, so we can share it if requested\u001b[0m\u001b[1;33m\u001b[0m\u001b[1;33m\u001b[0m\u001b[0m\n\u001b[1;32m-> 1186\u001b[1;33m     \u001b[0max0\u001b[0m \u001b[1;33m=\u001b[0m \u001b[0mfig\u001b[0m\u001b[1;33m.\u001b[0m\u001b[0madd_subplot\u001b[0m\u001b[1;33m(\u001b[0m\u001b[0mgs\u001b[0m\u001b[1;33m[\u001b[0m\u001b[1;36m0\u001b[0m\u001b[1;33m,\u001b[0m \u001b[1;36m0\u001b[0m\u001b[1;33m]\u001b[0m\u001b[1;33m,\u001b[0m \u001b[1;33m**\u001b[0m\u001b[0msubplot_kw\u001b[0m\u001b[1;33m)\u001b[0m\u001b[1;33m\u001b[0m\u001b[0m\n\u001b[0m\u001b[0;32m   1187\u001b[0m     \u001b[0maxarr\u001b[0m\u001b[1;33m[\u001b[0m\u001b[1;36m0\u001b[0m\u001b[1;33m]\u001b[0m \u001b[1;33m=\u001b[0m \u001b[0max0\u001b[0m\u001b[1;33m\u001b[0m\u001b[0m\n\u001b[0;32m   1188\u001b[0m \u001b[1;33m\u001b[0m\u001b[0m\n",
      "\u001b[1;32m/home/maximilian/anaconda3/lib/python3.5/site-packages/matplotlib/gridspec.py\u001b[0m in \u001b[0;36m__getitem__\u001b[1;34m(self, key)\u001b[0m\n\u001b[0;32m    152\u001b[0m                     \u001b[0mk1\u001b[0m \u001b[1;33m+=\u001b[0m \u001b[0mnrows\u001b[0m\u001b[1;33m\u001b[0m\u001b[0m\n\u001b[0;32m    153\u001b[0m                 \u001b[1;32mif\u001b[0m \u001b[0mk1\u001b[0m \u001b[1;33m>=\u001b[0m \u001b[0mnrows\u001b[0m \u001b[1;32mor\u001b[0m \u001b[0mk1\u001b[0m \u001b[1;33m<\u001b[0m \u001b[1;36m0\u001b[0m \u001b[1;33m:\u001b[0m\u001b[1;33m\u001b[0m\u001b[0m\n\u001b[1;32m--> 154\u001b[1;33m                     \u001b[1;32mraise\u001b[0m \u001b[0mIndexError\u001b[0m\u001b[1;33m(\u001b[0m\u001b[1;34m\"index out of range\"\u001b[0m\u001b[1;33m)\u001b[0m\u001b[1;33m\u001b[0m\u001b[0m\n\u001b[0m\u001b[0;32m    155\u001b[0m                 \u001b[0mrow1\u001b[0m\u001b[1;33m,\u001b[0m \u001b[0mrow2\u001b[0m \u001b[1;33m=\u001b[0m \u001b[0mk1\u001b[0m\u001b[1;33m,\u001b[0m \u001b[0mk1\u001b[0m\u001b[1;33m+\u001b[0m\u001b[1;36m1\u001b[0m\u001b[1;33m\u001b[0m\u001b[0m\n\u001b[0;32m    156\u001b[0m \u001b[1;33m\u001b[0m\u001b[0m\n",
      "\u001b[1;31mIndexError\u001b[0m: index out of range"
     ]
    },
    {
     "data": {
      "text/plain": [
       "<matplotlib.figure.Figure at 0x7fedde599748>"
      ]
     },
     "metadata": {},
     "output_type": "display_data"
    }
   ],
   "source": [
    "# sampled data to reduce plotting time\n",
    "sampled_x_proc = sample_data(x_proc, seed=None, size_samples=2000)\n",
    "\n",
    "# run it only if you have time (approx. 30 seconds), replace 0 below\n",
    "nbFeatures = 0#10#x_raw.shape[1]\n",
    "nbCols = 4\n",
    "nbRows = int(np.ceil(nbFeatures * nbFeatures / nbCols))\n",
    "f, ax = plt.subplots(nbRows, nbCols, figsize=(20, 5 * nbRows))\n",
    "for feat1 in range(nbFeatures):\n",
    "    print(\"feature #{}\".format(feat1))\n",
    "    for feat2 in range(feat1+1, nbFeatures):\n",
    "        plotIndex = feat1 * nbFeatures + feat2\n",
    "        #print(ax.shape)\n",
    "        ax_spec = ax[plotIndex // nbCols, plotIndex % nbCols]\n",
    "        ax_spec.scatter(sampled_x_proc[:, feat1], sampled_x_proc[:, feat2])\n",
    "        #ax_spec.legend(loc='best')\n",
    "        ax_spec.set_xlabel('feature #{}'.format(feat1))\n",
    "        ax_spec.set_ylabel('feature #{}'.format(feat2))\n",
    "        ax_spec.set_title(\"features #{}-#{}\".format(feat1, feat2))\n",
    "        \n",
    "f.savefig('correlations.png')"
   ]
  },
  {
   "cell_type": "code",
   "execution_count": 184,
   "metadata": {
    "collapsed": true
   },
   "outputs": [],
   "source": [
    "#f.savefig('correlations.png')"
   ]
  },
  {
   "cell_type": "markdown",
   "metadata": {},
   "source": [
    "# Predict Weights with Gradient Descent"
   ]
  },
  {
   "cell_type": "code",
   "execution_count": 170,
   "metadata": {
    "collapsed": false
   },
   "outputs": [
    {
     "name": "stdout",
     "output_type": "stream",
     "text": [
      "(250000, 12)\n",
      "250000\n"
     ]
    }
   ],
   "source": [
    "# Import cleaned data, keep mean_x and std_x for transforming testing data in the end\n",
    "#tx, mean_x, std_x = clean_data_and_standardize(x_raw)\n",
    "(tx, mean_x, std_x, toPCABasis_fcn) = clean_data_and_standardize(\n",
    "    x_raw, varianceToKeep=0.9999, toPCABasis_fcn=None)\n",
    "print(tx.shape)\n",
    "print(len(prediction))"
   ]
  },
  {
   "cell_type": "code",
   "execution_count": 171,
   "metadata": {
    "collapsed": false
   },
   "outputs": [
    {
     "name": "stdout",
     "output_type": "stream",
     "text": [
      "Stochastic Gradient Descent(0/2499): changeInLoss=0.02757863206586464, loss=28.43403787689534, w0=9.986, w1=9.986128935197272\n",
      "Stochastic Gradient Descent(250/2499): changeInLoss=0.023943568333116616, loss=20.5795284984566, w0=5.928000000000026, w1=7.1285602683497205\n",
      "Stochastic Gradient Descent(500/2499): changeInLoss=0.028812853364154734, loss=12.881136731751369, w0=2.400000000000045, w1=4.495670616433189\n",
      "Stochastic Gradient Descent(750/2499): changeInLoss=0.030728119378136576, loss=5.629330829588645, w0=-0.06199999999995479, w1=1.7223585285547114\n"
     ]
    },
    {
     "ename": "KeyboardInterrupt",
     "evalue": "",
     "output_type": "error",
     "traceback": [
      "\u001b[1;31m---------------------------------------------------------------------------\u001b[0m",
      "\u001b[1;31mKeyboardInterrupt\u001b[0m                         Traceback (most recent call last)",
      "\u001b[1;32m<ipython-input-171-8b5dc436d691>\u001b[0m in \u001b[0;36m<module>\u001b[1;34m()\u001b[0m\n\u001b[0;32m     38\u001b[0m         y, tx, gamma=gamma, max_iters=max_iters, batch_size=batch_size)\n\u001b[0;32m     39\u001b[0m (rmse_tr, rmse_te) = k_cross_validation(prediction, tx, k_fold=5, lambda_=0, degree=degree, seed=1, \n\u001b[1;32m---> 40\u001b[1;33m     compute_weightsFunction=compute_weightsFunctionMAE, compute_lossFunction=compute_mae_loss)\n\u001b[0m\u001b[0;32m     41\u001b[0m \u001b[1;33m\u001b[0m\u001b[0m\n\u001b[0;32m     42\u001b[0m \u001b[1;33m\u001b[0m\u001b[0m\n",
      "\u001b[1;32m/home/maximilian/Desktop/Projects/OwnMLCode/Project1/max/cross_validation.py\u001b[0m in \u001b[0;36mk_cross_validation\u001b[1;34m(y, x, k_fold, lambda_, degree, seed, compute_weightsFunction, compute_lossFunction)\u001b[0m\n\u001b[0;32m     88\u001b[0m         (mse_tr, mse_te) = cross_validation(y, x, k_indices, k, lambda_, degree, \n\u001b[0;32m     89\u001b[0m                                             \u001b[0mcompute_weightsFunction\u001b[0m\u001b[1;33m=\u001b[0m\u001b[0mcompute_weightsFunction\u001b[0m\u001b[1;33m,\u001b[0m\u001b[1;33m\u001b[0m\u001b[0m\n\u001b[1;32m---> 90\u001b[1;33m                                             compute_lossFunction=compute_lossFunction)\n\u001b[0m\u001b[0;32m     91\u001b[0m         \u001b[0mlosses_tr\u001b[0m\u001b[1;33m.\u001b[0m\u001b[0mappend\u001b[0m\u001b[1;33m(\u001b[0m\u001b[0mmse_tr\u001b[0m\u001b[1;33m)\u001b[0m\u001b[1;33m\u001b[0m\u001b[0m\n\u001b[0;32m     92\u001b[0m         \u001b[0mlosses_te\u001b[0m\u001b[1;33m.\u001b[0m\u001b[0mappend\u001b[0m\u001b[1;33m(\u001b[0m\u001b[0mmse_te\u001b[0m\u001b[1;33m)\u001b[0m\u001b[1;33m\u001b[0m\u001b[0m\n",
      "\u001b[1;32m/home/maximilian/Desktop/Projects/OwnMLCode/Project1/max/cross_validation.py\u001b[0m in \u001b[0;36mcross_validation\u001b[1;34m(y, x, k_indices, k, lambda_, degree, compute_weightsFunction, compute_lossFunction)\u001b[0m\n\u001b[0;32m     61\u001b[0m \u001b[1;33m\u001b[0m\u001b[0m\n\u001b[0;32m     62\u001b[0m     \u001b[1;31m# find weights using the training data only\u001b[0m\u001b[1;33m\u001b[0m\u001b[1;33m\u001b[0m\u001b[0m\n\u001b[1;32m---> 63\u001b[1;33m     \u001b[0mweights_tr\u001b[0m \u001b[1;33m=\u001b[0m \u001b[0mcompute_weightsFunction\u001b[0m\u001b[1;33m(\u001b[0m\u001b[0my_tr\u001b[0m\u001b[1;33m,\u001b[0m \u001b[0mx_poly_tr\u001b[0m\u001b[1;33m,\u001b[0m \u001b[0mlambda_\u001b[0m\u001b[1;33m)\u001b[0m\u001b[1;33m\u001b[0m\u001b[0m\n\u001b[0m\u001b[0;32m     64\u001b[0m \u001b[1;33m\u001b[0m\u001b[0m\n\u001b[0;32m     65\u001b[0m     \u001b[1;31m# compute the losses for cross validation\u001b[0m\u001b[1;33m\u001b[0m\u001b[1;33m\u001b[0m\u001b[0m\n",
      "\u001b[1;32m<ipython-input-171-8b5dc436d691>\u001b[0m in \u001b[0;36m<lambda>\u001b[1;34m(y, tx, lambdaIgnored)\u001b[0m\n\u001b[0;32m     36\u001b[0m \u001b[1;33m\u001b[0m\u001b[0m\n\u001b[0;32m     37\u001b[0m compute_weightsFunctionMAE = lambda y, tx, lambdaIgnored: mae_weights(\n\u001b[1;32m---> 38\u001b[1;33m         y, tx, gamma=gamma, max_iters=max_iters, batch_size=batch_size)\n\u001b[0m\u001b[0;32m     39\u001b[0m (rmse_tr, rmse_te) = k_cross_validation(prediction, tx, k_fold=5, lambda_=0, degree=degree, seed=1, \n\u001b[0;32m     40\u001b[0m     compute_weightsFunction=compute_weightsFunctionMAE, compute_lossFunction=compute_mae_loss)\n",
      "\u001b[1;32m/home/maximilian/Desktop/Projects/OwnMLCode/Project1/max/model_learning.py\u001b[0m in \u001b[0;36mmae_weights\u001b[1;34m(y, tx, gamma, max_iters, batch_size)\u001b[0m\n\u001b[0;32m    115\u001b[0m \u001b[1;33m\u001b[0m\u001b[0m\n\u001b[0;32m    116\u001b[0m     return ridge_regression_mae_weights(y, tx, lamb=0, gamma=gamma, \n\u001b[1;32m--> 117\u001b[1;33m                                           max_iters=max_iters, batch_size=batch_size)\n\u001b[0m\u001b[0;32m    118\u001b[0m \u001b[1;33m\u001b[0m\u001b[0m\n\u001b[0;32m    119\u001b[0m \u001b[1;31m# analogous for mae\u001b[0m\u001b[1;33m\u001b[0m\u001b[1;33m\u001b[0m\u001b[0m\n",
      "\u001b[1;32m/home/maximilian/Desktop/Projects/OwnMLCode/Project1/max/model_learning.py\u001b[0m in \u001b[0;36mridge_regression_mae_weights\u001b[1;34m(y, tx, lamb, gamma, max_iters, batch_size)\u001b[0m\n\u001b[0;32m    121\u001b[0m \u001b[1;33m\u001b[0m\u001b[0m\n\u001b[0;32m    122\u001b[0m     return ridge_regression_method(y, tx, lamb, gamma, max_iters, compute_gradientFunction=compute_mae_gradient, \n\u001b[1;32m--> 123\u001b[1;33m                             compute_lossFunction=compute_mae_loss, batch_size=batch_size)\n\u001b[0m\u001b[0;32m    124\u001b[0m \u001b[1;33m\u001b[0m\u001b[0m\n\u001b[0;32m    125\u001b[0m \u001b[1;33m\u001b[0m\u001b[0m\n",
      "\u001b[1;32m/home/maximilian/Desktop/Projects/OwnMLCode/Project1/max/model_learning.py\u001b[0m in \u001b[0;36mridge_regression_method\u001b[1;34m(y, tx, lamb, gamma, max_iters, compute_gradientFunction, compute_lossFunction, batch_size)\u001b[0m\n\u001b[0;32m    157\u001b[0m     w = stochastic_gradient_descent(y, tx, initial_w, batch_size, max_iters, \n\u001b[0;32m    158\u001b[0m                                     \u001b[0mgamma\u001b[0m\u001b[1;33m,\u001b[0m \u001b[0mcompute_gradientFunction\u001b[0m\u001b[1;33m=\u001b[0m\u001b[0mcompute_ridge_gradient\u001b[0m\u001b[1;33m,\u001b[0m\u001b[1;33m\u001b[0m\u001b[0m\n\u001b[1;32m--> 159\u001b[1;33m                                     compute_lossFunction=compute_ridge_lossFunction)\n\u001b[0m\u001b[0;32m    160\u001b[0m \u001b[1;33m\u001b[0m\u001b[0m\n\u001b[0;32m    161\u001b[0m     \u001b[1;32mreturn\u001b[0m \u001b[0mw\u001b[0m\u001b[1;33m\u001b[0m\u001b[0m\n",
      "\u001b[1;32m/home/maximilian/Desktop/Projects/OwnMLCode/Project1/max/model_learning.py\u001b[0m in \u001b[0;36mstochastic_gradient_descent\u001b[1;34m(y, tx, initial_w, batch_size, max_iters, gamma, compute_gradientFunction, compute_lossFunction)\u001b[0m\n\u001b[0;32m     56\u001b[0m \u001b[1;33m\u001b[0m\u001b[0m\n\u001b[0;32m     57\u001b[0m             \u001b[0mold_loss\u001b[0m \u001b[1;33m=\u001b[0m \u001b[0mloss\u001b[0m\u001b[1;33m\u001b[0m\u001b[0m\n\u001b[1;32m---> 58\u001b[1;33m             \u001b[0mloss\u001b[0m \u001b[1;33m=\u001b[0m \u001b[0mcompute_lossFunction\u001b[0m\u001b[1;33m(\u001b[0m\u001b[0my\u001b[0m\u001b[1;33m,\u001b[0m \u001b[0mtx\u001b[0m\u001b[1;33m,\u001b[0m \u001b[0mw\u001b[0m\u001b[1;33m)\u001b[0m\u001b[1;33m\u001b[0m\u001b[0m\n\u001b[0m\u001b[0;32m     59\u001b[0m             \u001b[1;31m# store\u001b[0m\u001b[1;33m\u001b[0m\u001b[1;33m\u001b[0m\u001b[0m\n\u001b[0;32m     60\u001b[0m             \u001b[1;31m#ws.append(np.copy(w))\u001b[0m\u001b[1;33m\u001b[0m\u001b[1;33m\u001b[0m\u001b[0m\n",
      "\u001b[1;32m/home/maximilian/Desktop/Projects/OwnMLCode/Project1/max/model_learning.py\u001b[0m in \u001b[0;36m<lambda>\u001b[1;34m(y1, tx1, w)\u001b[0m\n\u001b[0;32m    151\u001b[0m     \u001b[1;31m# TODO: lambda/2N?\u001b[0m\u001b[1;33m\u001b[0m\u001b[1;33m\u001b[0m\u001b[0m\n\u001b[0;32m    152\u001b[0m     \u001b[0mcompute_ridge_gradient\u001b[0m \u001b[1;33m=\u001b[0m \u001b[1;32mlambda\u001b[0m \u001b[0my1\u001b[0m\u001b[1;33m,\u001b[0m \u001b[0mtx1\u001b[0m\u001b[1;33m,\u001b[0m \u001b[0mw\u001b[0m\u001b[1;33m:\u001b[0m \u001b[0mcompute_gradientFunction\u001b[0m\u001b[1;33m(\u001b[0m\u001b[0my1\u001b[0m\u001b[1;33m,\u001b[0m \u001b[0mtx1\u001b[0m\u001b[1;33m,\u001b[0m \u001b[0mw\u001b[0m\u001b[1;33m)\u001b[0m \u001b[1;33m+\u001b[0m \u001b[1;36m2\u001b[0m \u001b[1;33m*\u001b[0m \u001b[0mlamb\u001b[0m \u001b[1;33m*\u001b[0m \u001b[0mw\u001b[0m\u001b[1;33m\u001b[0m\u001b[0m\n\u001b[1;32m--> 153\u001b[1;33m     \u001b[0mcompute_ridge_lossFunction\u001b[0m \u001b[1;33m=\u001b[0m \u001b[1;32mlambda\u001b[0m \u001b[0my1\u001b[0m\u001b[1;33m,\u001b[0m \u001b[0mtx1\u001b[0m\u001b[1;33m,\u001b[0m \u001b[0mw\u001b[0m\u001b[1;33m:\u001b[0m \u001b[0mcompute_lossFunction\u001b[0m\u001b[1;33m(\u001b[0m\u001b[0my1\u001b[0m\u001b[1;33m,\u001b[0m \u001b[0mtx1\u001b[0m\u001b[1;33m,\u001b[0m \u001b[0mw\u001b[0m\u001b[1;33m)\u001b[0m \u001b[1;33m+\u001b[0m \u001b[0mlamb\u001b[0m \u001b[1;33m*\u001b[0m \u001b[0msum\u001b[0m\u001b[1;33m(\u001b[0m\u001b[0mw\u001b[0m\u001b[1;33m**\u001b[0m\u001b[1;36m2\u001b[0m\u001b[1;33m)\u001b[0m\u001b[1;33m\u001b[0m\u001b[0m\n\u001b[0m\u001b[0;32m    154\u001b[0m \u001b[1;33m\u001b[0m\u001b[0m\n\u001b[0;32m    155\u001b[0m     \u001b[0minitial_w\u001b[0m \u001b[1;33m=\u001b[0m \u001b[0mnp\u001b[0m\u001b[1;33m.\u001b[0m\u001b[0marray\u001b[0m\u001b[1;33m(\u001b[0m\u001b[1;33m[\u001b[0m\u001b[1;36m10\u001b[0m\u001b[1;33m]\u001b[0m\u001b[1;33m*\u001b[0m\u001b[0mM\u001b[0m\u001b[1;33m)\u001b[0m\u001b[1;33m\u001b[0m\u001b[0m\n",
      "\u001b[1;32m/home/maximilian/Desktop/Projects/OwnMLCode/Project1/max/costs.py\u001b[0m in \u001b[0;36mcompute_mae_loss\u001b[1;34m(y, tx, w)\u001b[0m\n\u001b[0;32m     14\u001b[0m     \"\"\"Calculate the mae loss.\n\u001b[0;32m     15\u001b[0m     \"\"\"\n\u001b[1;32m---> 16\u001b[1;33m     \u001b[0merr\u001b[0m \u001b[1;33m=\u001b[0m \u001b[0my\u001b[0m \u001b[1;33m-\u001b[0m \u001b[0mnp\u001b[0m\u001b[1;33m.\u001b[0m\u001b[0mdot\u001b[0m\u001b[1;33m(\u001b[0m\u001b[0mtx\u001b[0m\u001b[1;33m,\u001b[0m \u001b[0mw\u001b[0m\u001b[1;33m)\u001b[0m\u001b[1;33m\u001b[0m\u001b[0m\n\u001b[0m\u001b[0;32m     17\u001b[0m     \u001b[1;32mreturn\u001b[0m \u001b[0mnp\u001b[0m\u001b[1;33m.\u001b[0m\u001b[0mmean\u001b[0m\u001b[1;33m(\u001b[0m\u001b[0mnp\u001b[0m\u001b[1;33m.\u001b[0m\u001b[0mabs\u001b[0m\u001b[1;33m(\u001b[0m\u001b[0merr\u001b[0m\u001b[1;33m)\u001b[0m\u001b[1;33m)\u001b[0m\u001b[1;33m\u001b[0m\u001b[0m\n\u001b[0;32m     18\u001b[0m \u001b[1;33m\u001b[0m\u001b[0m\n",
      "\u001b[1;31mKeyboardInterrupt\u001b[0m: "
     ]
    }
   ],
   "source": [
    "#from plots import gradient_descent_visualization\n",
    "from costs import *\n",
    "from model_learning import *\n",
    "from cross_validation import k_cross_validation, split_data\n",
    "\n",
    "nbFeatures = tx.shape[1]\n",
    "\n",
    "# Define the parameters of the algorithm.\n",
    "max_iters = 500000\n",
    "gamma = 0.01\n",
    "# Initialization\n",
    "\n",
    "max_iters = 2500\n",
    "gamma = 0.05\n",
    "batch_size = 1000\n",
    "degree = 1\n",
    "\n",
    "max_iters = 2500\n",
    "gamma = 0.05\n",
    "batch_size = 50#int(tx.shape[0]/100)\n",
    "degree = 1\n",
    "w_initial = [10] * nbFeatures\n",
    "\n",
    "# Start gradient desceniit.\n",
    "start_time = datetime.datetime.now()\n",
    "#weights = gradient_descent(prediction, tx, w_initial, max_iters, gamma)\n",
    "\n",
    "#compute_weightsFunctionMSE = lambda y, tx, lambdaIgnored: least_squares_weights(\n",
    "#        y, tx, gamma=gamma, max_iters=max_iters, batch_size=batch_size)\n",
    "compute_weightsFunctionMSE = lambda y, tx, lambdaIgnored: exact_least_squares_weights(y, tx)\n",
    "#weights = stochastic_gradient_descent(prediction, tx, w_initial, batch_size=200, max_iters=max_iters, \n",
    "#                                      gamma=gamma, compute_gradientFunction=compute_mse_gradient, compute_lossFunction=compute_mse_loss)\n",
    "\n",
    "(rmse_tr, rmse_te) = k_cross_validation(prediction, tx, k_fold=5, lambda_=0, degree=degree, seed=1, \n",
    "    compute_weightsFunction=compute_weightsFunctionMSE, compute_lossFunction=compute_mse_loss)\n",
    "\n",
    "compute_weightsFunctionMAE = lambda y, tx, lambdaIgnored: mae_weights(\n",
    "        y, tx, gamma=gamma, max_iters=max_iters, batch_size=batch_size)\n",
    "(rmse_tr, rmse_te) = k_cross_validation(prediction, tx, k_fold=5, lambda_=0, degree=degree, seed=1, \n",
    "    compute_weightsFunction=compute_weightsFunctionMAE, compute_lossFunction=compute_mae_loss)\n",
    "\n",
    "\n",
    "end_time = datetime.datetime.now()\n",
    "\n",
    "\n",
    "print((rmse_tr, rmse_te))\n",
    "# Print result\n",
    "execution_time = (end_time - start_time).total_seconds()\n",
    "print(\"Gradient Descent: execution time={t:.3f} seconds\".format(t=execution_time))"
   ]
  },
  {
   "cell_type": "code",
   "execution_count": 102,
   "metadata": {
    "collapsed": false
   },
   "outputs": [
    {
     "name": "stdout",
     "output_type": "stream",
     "text": [
      "(2, 10)\n"
     ]
    }
   ],
   "source": [
    "arr = np.array([[1, 2, 4], [2, 3, 4]])\n",
    "degree = 3\n",
    "res = build_poly(arr, degree)\n",
    "print(res.shape)"
   ]
  },
  {
   "cell_type": "markdown",
   "metadata": {},
   "source": [
    "# Do Cross Validation"
   ]
  },
  {
   "cell_type": "code",
   "execution_count": 172,
   "metadata": {
    "collapsed": false
   },
   "outputs": [
    {
     "name": "stdout",
     "output_type": "stream",
     "text": [
      "Starting with seed #0\n",
      "Taking degree 2, lambda 0.0001\n",
      "Taking degree 2, lambda 0.00017433288221999874\n",
      "Taking degree 2, lambda 0.0003039195382313198\n",
      "Taking degree 2, lambda 0.0005298316906283707\n",
      "Taking degree 2, lambda 0.0009236708571873865\n",
      "Taking degree 2, lambda 0.0016102620275609393\n",
      "Taking degree 2, lambda 0.0028072162039411755\n",
      "Taking degree 2, lambda 0.004893900918477494\n",
      "Taking degree 2, lambda 0.008531678524172814\n",
      "Taking degree 2, lambda 0.014873521072935119\n",
      "Taking degree 2, lambda 0.02592943797404667\n",
      "Taking degree 2, lambda 0.04520353656360245\n",
      "Taking degree 2, lambda 0.07880462815669913\n",
      "Taking degree 2, lambda 0.1373823795883264\n",
      "Taking degree 2, lambda 0.2395026619987486\n",
      "Taking degree 2, lambda 0.4175318936560405\n",
      "Taking degree 2, lambda 0.7278953843983154\n",
      "Taking degree 2, lambda 1.2689610031679235\n",
      "Taking degree 2, lambda 2.21221629107045\n",
      "Taking degree 2, lambda 3.856620421163472\n",
      "Taking degree 2, lambda 6.723357536499335\n",
      "Taking degree 2, lambda 11.721022975334817\n",
      "Taking degree 2, lambda 20.43359717856944\n",
      "Taking degree 2, lambda 35.622478902624444\n",
      "Taking degree 2, lambda 62.10169418915616\n",
      "Taking degree 2, lambda 108.2636733874054\n",
      "Taking degree 2, lambda 188.73918221350996\n",
      "Taking degree 2, lambda 329.0344562312671\n",
      "Taking degree 2, lambda 573.6152510448682\n",
      "Taking degree 2, lambda 1000.0\n",
      "Best lambda for degree 2: 0.1373823795883264 (index 13)\n",
      "Taking degree 3, lambda 0.0001\n",
      "Taking degree 3, lambda 0.00017433288221999874\n",
      "Taking degree 3, lambda 0.0003039195382313198\n",
      "Taking degree 3, lambda 0.0005298316906283707\n",
      "Taking degree 3, lambda 0.0009236708571873865\n",
      "Taking degree 3, lambda 0.0016102620275609393\n",
      "Taking degree 3, lambda 0.0028072162039411755\n",
      "Taking degree 3, lambda 0.004893900918477494\n",
      "Taking degree 3, lambda 0.008531678524172814\n",
      "Taking degree 3, lambda 0.014873521072935119\n",
      "Taking degree 3, lambda 0.02592943797404667\n",
      "Taking degree 3, lambda 0.04520353656360245\n",
      "Taking degree 3, lambda 0.07880462815669913\n",
      "Taking degree 3, lambda 0.1373823795883264\n",
      "Taking degree 3, lambda 0.2395026619987486\n",
      "Taking degree 3, lambda 0.4175318936560405\n",
      "Taking degree 3, lambda 0.7278953843983154\n",
      "Taking degree 3, lambda 1.2689610031679235\n",
      "Taking degree 3, lambda 2.21221629107045\n",
      "Taking degree 3, lambda 3.856620421163472\n",
      "Taking degree 3, lambda 6.723357536499335\n",
      "Taking degree 3, lambda 11.721022975334817\n",
      "Taking degree 3, lambda 20.43359717856944\n",
      "Taking degree 3, lambda 35.622478902624444\n",
      "Taking degree 3, lambda 62.10169418915616\n",
      "Taking degree 3, lambda 108.2636733874054\n",
      "Taking degree 3, lambda 188.73918221350996\n",
      "Taking degree 3, lambda 329.0344562312671\n",
      "Taking degree 3, lambda 573.6152510448682\n",
      "Taking degree 3, lambda 1000.0\n",
      "Best lambda for degree 3: 573.6152510448682 (index 28)\n",
      "Taking degree 4, lambda 0.0001\n",
      "Taking degree 4, lambda 0.00017433288221999874\n",
      "Taking degree 4, lambda 0.0003039195382313198\n",
      "Taking degree 4, lambda 0.0005298316906283707\n",
      "Taking degree 4, lambda 0.0009236708571873865\n",
      "Taking degree 4, lambda 0.0016102620275609393\n",
      "Taking degree 4, lambda 0.0028072162039411755\n",
      "Taking degree 4, lambda 0.004893900918477494\n",
      "Taking degree 4, lambda 0.008531678524172814\n",
      "Taking degree 4, lambda 0.014873521072935119\n",
      "Taking degree 4, lambda 0.02592943797404667\n",
      "Taking degree 4, lambda 0.04520353656360245\n",
      "Taking degree 4, lambda 0.07880462815669913\n",
      "Taking degree 4, lambda 0.1373823795883264\n",
      "Taking degree 4, lambda 0.2395026619987486\n",
      "Taking degree 4, lambda 0.4175318936560405\n",
      "Taking degree 4, lambda 0.7278953843983154\n",
      "Taking degree 4, lambda 1.2689610031679235\n",
      "Taking degree 4, lambda 2.21221629107045\n",
      "Taking degree 4, lambda 3.856620421163472\n",
      "Taking degree 4, lambda 6.723357536499335\n",
      "Taking degree 4, lambda 11.721022975334817\n",
      "Taking degree 4, lambda 20.43359717856944\n",
      "Taking degree 4, lambda 35.622478902624444\n",
      "Taking degree 4, lambda 62.10169418915616\n",
      "Taking degree 4, lambda 108.2636733874054\n",
      "Taking degree 4, lambda 188.73918221350996\n",
      "Taking degree 4, lambda 329.0344562312671\n",
      "Taking degree 4, lambda 573.6152510448682\n",
      "Taking degree 4, lambda 1000.0\n",
      "Best lambda for degree 4: 0.0001 (index 0)\n",
      "Taking degree 5, lambda 0.0001\n",
      "Taking degree 5, lambda 0.00017433288221999874\n",
      "Taking degree 5, lambda 0.0003039195382313198\n",
      "Taking degree 5, lambda 0.0005298316906283707\n",
      "Taking degree 5, lambda 0.0009236708571873865\n",
      "Taking degree 5, lambda 0.0016102620275609393\n",
      "Taking degree 5, lambda 0.0028072162039411755\n",
      "Taking degree 5, lambda 0.004893900918477494\n",
      "Taking degree 5, lambda 0.008531678524172814\n",
      "Taking degree 5, lambda 0.014873521072935119\n",
      "Taking degree 5, lambda 0.02592943797404667\n",
      "Taking degree 5, lambda 0.04520353656360245\n",
      "Taking degree 5, lambda 0.07880462815669913\n",
      "Taking degree 5, lambda 0.1373823795883264\n",
      "Taking degree 5, lambda 0.2395026619987486\n",
      "Taking degree 5, lambda 0.4175318936560405\n",
      "Taking degree 5, lambda 0.7278953843983154\n",
      "Taking degree 5, lambda 1.2689610031679235\n",
      "Taking degree 5, lambda 2.21221629107045\n",
      "Taking degree 5, lambda 3.856620421163472\n",
      "Taking degree 5, lambda 6.723357536499335\n",
      "Taking degree 5, lambda 11.721022975334817\n",
      "Taking degree 5, lambda 20.43359717856944\n",
      "Taking degree 5, lambda 35.622478902624444\n",
      "Taking degree 5, lambda 62.10169418915616\n",
      "Taking degree 5, lambda 108.2636733874054\n",
      "Taking degree 5, lambda 188.73918221350996\n",
      "Taking degree 5, lambda 329.0344562312671\n",
      "Taking degree 5, lambda 573.6152510448682\n",
      "Taking degree 5, lambda 1000.0\n",
      "Best lambda for degree 5: 1000.0 (index 29)\n",
      "Taking degree 6, lambda 0.0001\n",
      "Taking degree 6, lambda 0.00017433288221999874\n",
      "Taking degree 6, lambda 0.0003039195382313198\n",
      "Taking degree 6, lambda 0.0005298316906283707\n",
      "Taking degree 6, lambda 0.0009236708571873865\n",
      "Taking degree 6, lambda 0.0016102620275609393\n",
      "Taking degree 6, lambda 0.0028072162039411755\n",
      "Taking degree 6, lambda 0.004893900918477494\n",
      "Taking degree 6, lambda 0.008531678524172814\n",
      "Taking degree 6, lambda 0.014873521072935119\n",
      "Taking degree 6, lambda 0.02592943797404667\n",
      "Taking degree 6, lambda 0.04520353656360245\n",
      "Taking degree 6, lambda 0.07880462815669913\n",
      "Taking degree 6, lambda 0.1373823795883264\n",
      "Taking degree 6, lambda 0.2395026619987486\n",
      "Taking degree 6, lambda 0.4175318936560405\n",
      "Taking degree 6, lambda 0.7278953843983154\n",
      "Taking degree 6, lambda 1.2689610031679235\n",
      "Taking degree 6, lambda 2.21221629107045\n",
      "Taking degree 6, lambda 3.856620421163472\n",
      "Taking degree 6, lambda 6.723357536499335\n",
      "Taking degree 6, lambda 11.721022975334817\n",
      "Taking degree 6, lambda 20.43359717856944\n",
      "Taking degree 6, lambda 35.622478902624444\n",
      "Taking degree 6, lambda 62.10169418915616\n",
      "Taking degree 6, lambda 108.2636733874054\n",
      "Taking degree 6, lambda 188.73918221350996\n",
      "Taking degree 6, lambda 329.0344562312671\n",
      "Taking degree 6, lambda 573.6152510448682\n",
      "Taking degree 6, lambda 1000.0\n",
      "Best lambda for degree 6: 0.0001 (index 0)\n",
      "Taking degree 7, lambda 0.0001\n",
      "Taking degree 7, lambda 0.00017433288221999874\n",
      "Taking degree 7, lambda 0.0003039195382313198\n",
      "Taking degree 7, lambda 0.0005298316906283707\n",
      "Taking degree 7, lambda 0.0009236708571873865\n",
      "Taking degree 7, lambda 0.0016102620275609393\n",
      "Taking degree 7, lambda 0.0028072162039411755\n",
      "Taking degree 7, lambda 0.004893900918477494\n",
      "Taking degree 7, lambda 0.008531678524172814\n",
      "Taking degree 7, lambda 0.014873521072935119\n",
      "Taking degree 7, lambda 0.02592943797404667\n",
      "Taking degree 7, lambda 0.04520353656360245\n",
      "Taking degree 7, lambda 0.07880462815669913\n",
      "Taking degree 7, lambda 0.1373823795883264\n",
      "Taking degree 7, lambda 0.2395026619987486\n",
      "Taking degree 7, lambda 0.4175318936560405\n",
      "Taking degree 7, lambda 0.7278953843983154\n",
      "Taking degree 7, lambda 1.2689610031679235\n",
      "Taking degree 7, lambda 2.21221629107045\n",
      "Taking degree 7, lambda 3.856620421163472\n",
      "Taking degree 7, lambda 6.723357536499335\n",
      "Taking degree 7, lambda 11.721022975334817\n",
      "Taking degree 7, lambda 20.43359717856944\n",
      "Taking degree 7, lambda 35.622478902624444\n",
      "Taking degree 7, lambda 62.10169418915616\n",
      "Taking degree 7, lambda 108.2636733874054\n",
      "Taking degree 7, lambda 188.73918221350996\n",
      "Taking degree 7, lambda 329.0344562312671\n",
      "Taking degree 7, lambda 573.6152510448682\n",
      "Taking degree 7, lambda 1000.0\n",
      "Best lambda for degree 7: 1000.0 (index 29)\n",
      "Taking degree 8, lambda 0.0001\n",
      "Taking degree 8, lambda 0.00017433288221999874\n",
      "Taking degree 8, lambda 0.0003039195382313198\n",
      "Taking degree 8, lambda 0.0005298316906283707\n",
      "Taking degree 8, lambda 0.0009236708571873865\n",
      "Taking degree 8, lambda 0.0016102620275609393\n",
      "Taking degree 8, lambda 0.0028072162039411755\n",
      "Taking degree 8, lambda 0.004893900918477494\n",
      "Taking degree 8, lambda 0.008531678524172814\n",
      "Taking degree 8, lambda 0.014873521072935119\n",
      "Taking degree 8, lambda 0.02592943797404667\n",
      "Taking degree 8, lambda 0.04520353656360245\n",
      "Taking degree 8, lambda 0.07880462815669913\n",
      "Taking degree 8, lambda 0.1373823795883264\n",
      "Taking degree 8, lambda 0.2395026619987486\n",
      "Taking degree 8, lambda 0.4175318936560405\n",
      "Taking degree 8, lambda 0.7278953843983154\n",
      "Taking degree 8, lambda 1.2689610031679235\n",
      "Taking degree 8, lambda 2.21221629107045\n",
      "Taking degree 8, lambda 3.856620421163472\n",
      "Taking degree 8, lambda 6.723357536499335\n",
      "Taking degree 8, lambda 11.721022975334817\n",
      "Taking degree 8, lambda 20.43359717856944\n",
      "Taking degree 8, lambda 35.622478902624444\n",
      "Taking degree 8, lambda 62.10169418915616\n",
      "Taking degree 8, lambda 108.2636733874054\n",
      "Taking degree 8, lambda 188.73918221350996\n",
      "Taking degree 8, lambda 329.0344562312671\n",
      "Taking degree 8, lambda 573.6152510448682\n",
      "Taking degree 8, lambda 1000.0\n",
      "Best lambda for degree 8: 0.014873521072935119 (index 9)\n",
      "Taking degree 9, lambda 0.0001\n",
      "Taking degree 9, lambda 0.00017433288221999874\n",
      "Taking degree 9, lambda 0.0003039195382313198\n",
      "Taking degree 9, lambda 0.0005298316906283707\n",
      "Taking degree 9, lambda 0.0009236708571873865\n",
      "Taking degree 9, lambda 0.0016102620275609393\n",
      "Taking degree 9, lambda 0.0028072162039411755\n",
      "Taking degree 9, lambda 0.004893900918477494\n",
      "Taking degree 9, lambda 0.008531678524172814\n",
      "Taking degree 9, lambda 0.014873521072935119\n",
      "Taking degree 9, lambda 0.02592943797404667\n",
      "Taking degree 9, lambda 0.04520353656360245\n",
      "Taking degree 9, lambda 0.07880462815669913\n",
      "Taking degree 9, lambda 0.1373823795883264\n",
      "Taking degree 9, lambda 0.2395026619987486\n",
      "Taking degree 9, lambda 0.4175318936560405\n",
      "Taking degree 9, lambda 0.7278953843983154\n",
      "Taking degree 9, lambda 1.2689610031679235\n",
      "Taking degree 9, lambda 2.21221629107045\n",
      "Taking degree 9, lambda 3.856620421163472\n",
      "Taking degree 9, lambda 6.723357536499335\n",
      "Taking degree 9, lambda 11.721022975334817\n",
      "Taking degree 9, lambda 20.43359717856944\n",
      "Taking degree 9, lambda 35.622478902624444\n",
      "Taking degree 9, lambda 62.10169418915616\n",
      "Taking degree 9, lambda 108.2636733874054\n",
      "Taking degree 9, lambda 188.73918221350996\n",
      "Taking degree 9, lambda 329.0344562312671\n",
      "Taking degree 9, lambda 573.6152510448682\n",
      "Taking degree 9, lambda 1000.0\n",
      "Best lambda for degree 9: 0.0001 (index 0)\n",
      "Taking degree 10, lambda 0.0001\n",
      "Taking degree 10, lambda 0.00017433288221999874\n",
      "Taking degree 10, lambda 0.0003039195382313198\n",
      "Taking degree 10, lambda 0.0005298316906283707\n",
      "Taking degree 10, lambda 0.0009236708571873865\n",
      "Taking degree 10, lambda 0.0016102620275609393\n",
      "Taking degree 10, lambda 0.0028072162039411755\n",
      "Taking degree 10, lambda 0.004893900918477494\n",
      "Taking degree 10, lambda 0.008531678524172814\n",
      "Taking degree 10, lambda 0.014873521072935119\n",
      "Taking degree 10, lambda 0.02592943797404667\n",
      "Taking degree 10, lambda 0.04520353656360245\n",
      "Taking degree 10, lambda 0.07880462815669913\n",
      "Taking degree 10, lambda 0.1373823795883264\n",
      "Taking degree 10, lambda 0.2395026619987486\n",
      "Taking degree 10, lambda 0.4175318936560405\n",
      "Taking degree 10, lambda 0.7278953843983154\n",
      "Taking degree 10, lambda 1.2689610031679235\n",
      "Taking degree 10, lambda 2.21221629107045\n",
      "Taking degree 10, lambda 3.856620421163472\n",
      "Taking degree 10, lambda 6.723357536499335\n",
      "Taking degree 10, lambda 11.721022975334817\n",
      "Taking degree 10, lambda 20.43359717856944\n",
      "Taking degree 10, lambda 35.622478902624444\n",
      "Taking degree 10, lambda 62.10169418915616\n",
      "Taking degree 10, lambda 108.2636733874054\n",
      "Taking degree 10, lambda 188.73918221350996\n",
      "Taking degree 10, lambda 329.0344562312671\n",
      "Taking degree 10, lambda 573.6152510448682\n",
      "Taking degree 10, lambda 1000.0\n",
      "Best lambda for degree 10: 1.2689610031679235 (index 17)\n",
      "Taking degree 11, lambda 0.0001\n",
      "Taking degree 11, lambda 0.00017433288221999874\n",
      "Taking degree 11, lambda 0.0003039195382313198\n",
      "Taking degree 11, lambda 0.0005298316906283707\n",
      "Taking degree 11, lambda 0.0009236708571873865\n",
      "Taking degree 11, lambda 0.0016102620275609393\n",
      "Taking degree 11, lambda 0.0028072162039411755\n",
      "Taking degree 11, lambda 0.004893900918477494\n",
      "Taking degree 11, lambda 0.008531678524172814\n",
      "Taking degree 11, lambda 0.014873521072935119\n",
      "Taking degree 11, lambda 0.02592943797404667\n",
      "Taking degree 11, lambda 0.04520353656360245\n",
      "Taking degree 11, lambda 0.07880462815669913\n",
      "Taking degree 11, lambda 0.1373823795883264\n",
      "Taking degree 11, lambda 0.2395026619987486\n",
      "Taking degree 11, lambda 0.4175318936560405\n",
      "Taking degree 11, lambda 0.7278953843983154\n",
      "Taking degree 11, lambda 1.2689610031679235\n",
      "Taking degree 11, lambda 2.21221629107045\n",
      "Taking degree 11, lambda 3.856620421163472\n",
      "Taking degree 11, lambda 6.723357536499335\n",
      "Taking degree 11, lambda 11.721022975334817\n",
      "Taking degree 11, lambda 20.43359717856944\n",
      "Taking degree 11, lambda 35.622478902624444\n",
      "Taking degree 11, lambda 62.10169418915616\n",
      "Taking degree 11, lambda 108.2636733874054\n",
      "Taking degree 11, lambda 188.73918221350996\n",
      "Taking degree 11, lambda 329.0344562312671\n",
      "Taking degree 11, lambda 573.6152510448682\n",
      "Taking degree 11, lambda 1000.0\n",
      "Best lambda for degree 11: 0.0001 (index 0)\n",
      "Taking degree 12, lambda 0.0001\n",
      "Taking degree 12, lambda 0.00017433288221999874\n",
      "Taking degree 12, lambda 0.0003039195382313198\n",
      "Taking degree 12, lambda 0.0005298316906283707\n",
      "Taking degree 12, lambda 0.0009236708571873865\n",
      "Taking degree 12, lambda 0.0016102620275609393\n",
      "Taking degree 12, lambda 0.0028072162039411755\n",
      "Taking degree 12, lambda 0.004893900918477494\n",
      "Taking degree 12, lambda 0.008531678524172814\n",
      "Taking degree 12, lambda 0.014873521072935119\n",
      "Taking degree 12, lambda 0.02592943797404667\n",
      "Taking degree 12, lambda 0.04520353656360245\n",
      "Taking degree 12, lambda 0.07880462815669913\n",
      "Taking degree 12, lambda 0.1373823795883264\n",
      "Taking degree 12, lambda 0.2395026619987486\n",
      "Taking degree 12, lambda 0.4175318936560405\n",
      "Taking degree 12, lambda 0.7278953843983154\n",
      "Taking degree 12, lambda 1.2689610031679235\n",
      "Taking degree 12, lambda 2.21221629107045\n",
      "Taking degree 12, lambda 3.856620421163472\n",
      "Taking degree 12, lambda 6.723357536499335\n",
      "Taking degree 12, lambda 11.721022975334817\n",
      "Taking degree 12, lambda 20.43359717856944\n",
      "Taking degree 12, lambda 35.622478902624444\n",
      "Taking degree 12, lambda 62.10169418915616\n",
      "Taking degree 12, lambda 108.2636733874054\n",
      "Taking degree 12, lambda 188.73918221350996\n",
      "Taking degree 12, lambda 329.0344562312671\n",
      "Taking degree 12, lambda 573.6152510448682\n",
      "Taking degree 12, lambda 1000.0\n",
      "Best lambda for degree 12: 1000.0 (index 29)\n",
      "Taking degree 13, lambda 0.0001\n",
      "Taking degree 13, lambda 0.00017433288221999874\n",
      "Taking degree 13, lambda 0.0003039195382313198\n",
      "Taking degree 13, lambda 0.0005298316906283707\n",
      "Taking degree 13, lambda 0.0009236708571873865\n",
      "Taking degree 13, lambda 0.0016102620275609393\n",
      "Taking degree 13, lambda 0.0028072162039411755\n",
      "Taking degree 13, lambda 0.004893900918477494\n",
      "Taking degree 13, lambda 0.008531678524172814\n",
      "Taking degree 13, lambda 0.014873521072935119\n",
      "Taking degree 13, lambda 0.02592943797404667\n",
      "Taking degree 13, lambda 0.04520353656360245\n",
      "Taking degree 13, lambda 0.07880462815669913\n",
      "Taking degree 13, lambda 0.1373823795883264\n",
      "Taking degree 13, lambda 0.2395026619987486\n",
      "Taking degree 13, lambda 0.4175318936560405\n",
      "Taking degree 13, lambda 0.7278953843983154\n",
      "Taking degree 13, lambda 1.2689610031679235\n",
      "Taking degree 13, lambda 2.21221629107045\n",
      "Taking degree 13, lambda 3.856620421163472\n",
      "Taking degree 13, lambda 6.723357536499335\n",
      "Taking degree 13, lambda 11.721022975334817\n",
      "Taking degree 13, lambda 20.43359717856944\n",
      "Taking degree 13, lambda 35.622478902624444\n",
      "Taking degree 13, lambda 62.10169418915616\n",
      "Taking degree 13, lambda 108.2636733874054\n",
      "Taking degree 13, lambda 188.73918221350996\n",
      "Taking degree 13, lambda 329.0344562312671\n",
      "Taking degree 13, lambda 573.6152510448682\n",
      "Taking degree 13, lambda 1000.0\n",
      "Best lambda for degree 13: 1000.0 (index 29)\n",
      "Starting with seed #1\n",
      "Taking degree 2, lambda 0.0001\n",
      "Taking degree 2, lambda 0.00017433288221999874\n",
      "Taking degree 2, lambda 0.0003039195382313198\n",
      "Taking degree 2, lambda 0.0005298316906283707\n",
      "Taking degree 2, lambda 0.0009236708571873865\n",
      "Taking degree 2, lambda 0.0016102620275609393\n",
      "Taking degree 2, lambda 0.0028072162039411755\n",
      "Taking degree 2, lambda 0.004893900918477494\n",
      "Taking degree 2, lambda 0.008531678524172814\n",
      "Taking degree 2, lambda 0.014873521072935119\n",
      "Taking degree 2, lambda 0.02592943797404667\n",
      "Taking degree 2, lambda 0.04520353656360245\n",
      "Taking degree 2, lambda 0.07880462815669913\n",
      "Taking degree 2, lambda 0.1373823795883264\n",
      "Taking degree 2, lambda 0.2395026619987486\n",
      "Taking degree 2, lambda 0.4175318936560405\n",
      "Taking degree 2, lambda 0.7278953843983154\n",
      "Taking degree 2, lambda 1.2689610031679235\n",
      "Taking degree 2, lambda 2.21221629107045\n",
      "Taking degree 2, lambda 3.856620421163472\n",
      "Taking degree 2, lambda 6.723357536499335\n",
      "Taking degree 2, lambda 11.721022975334817\n",
      "Taking degree 2, lambda 20.43359717856944\n",
      "Taking degree 2, lambda 35.622478902624444\n",
      "Taking degree 2, lambda 62.10169418915616\n",
      "Taking degree 2, lambda 108.2636733874054\n",
      "Taking degree 2, lambda 188.73918221350996\n",
      "Taking degree 2, lambda 329.0344562312671\n",
      "Taking degree 2, lambda 573.6152510448682\n",
      "Taking degree 2, lambda 1000.0\n",
      "Best lambda for degree 2: 0.0001 (index 0)\n",
      "Taking degree 3, lambda 0.0001\n",
      "Taking degree 3, lambda 0.00017433288221999874\n",
      "Taking degree 3, lambda 0.0003039195382313198\n",
      "Taking degree 3, lambda 0.0005298316906283707\n",
      "Taking degree 3, lambda 0.0009236708571873865\n",
      "Taking degree 3, lambda 0.0016102620275609393\n",
      "Taking degree 3, lambda 0.0028072162039411755\n",
      "Taking degree 3, lambda 0.004893900918477494\n",
      "Taking degree 3, lambda 0.008531678524172814\n",
      "Taking degree 3, lambda 0.014873521072935119\n",
      "Taking degree 3, lambda 0.02592943797404667\n",
      "Taking degree 3, lambda 0.04520353656360245\n",
      "Taking degree 3, lambda 0.07880462815669913\n",
      "Taking degree 3, lambda 0.1373823795883264\n",
      "Taking degree 3, lambda 0.2395026619987486\n",
      "Taking degree 3, lambda 0.4175318936560405\n",
      "Taking degree 3, lambda 0.7278953843983154\n",
      "Taking degree 3, lambda 1.2689610031679235\n",
      "Taking degree 3, lambda 2.21221629107045\n",
      "Taking degree 3, lambda 3.856620421163472\n",
      "Taking degree 3, lambda 6.723357536499335\n",
      "Taking degree 3, lambda 11.721022975334817\n",
      "Taking degree 3, lambda 20.43359717856944\n",
      "Taking degree 3, lambda 35.622478902624444\n",
      "Taking degree 3, lambda 62.10169418915616\n",
      "Taking degree 3, lambda 108.2636733874054\n",
      "Taking degree 3, lambda 188.73918221350996\n",
      "Taking degree 3, lambda 329.0344562312671\n",
      "Taking degree 3, lambda 573.6152510448682\n",
      "Taking degree 3, lambda 1000.0\n",
      "Best lambda for degree 3: 0.0001 (index 0)\n",
      "Taking degree 4, lambda 0.0001\n",
      "Taking degree 4, lambda 0.00017433288221999874\n",
      "Taking degree 4, lambda 0.0003039195382313198\n",
      "Taking degree 4, lambda 0.0005298316906283707\n",
      "Taking degree 4, lambda 0.0009236708571873865\n",
      "Taking degree 4, lambda 0.0016102620275609393\n",
      "Taking degree 4, lambda 0.0028072162039411755\n",
      "Taking degree 4, lambda 0.004893900918477494\n",
      "Taking degree 4, lambda 0.008531678524172814\n",
      "Taking degree 4, lambda 0.014873521072935119\n",
      "Taking degree 4, lambda 0.02592943797404667\n",
      "Taking degree 4, lambda 0.04520353656360245\n",
      "Taking degree 4, lambda 0.07880462815669913\n",
      "Taking degree 4, lambda 0.1373823795883264\n",
      "Taking degree 4, lambda 0.2395026619987486\n",
      "Taking degree 4, lambda 0.4175318936560405\n",
      "Taking degree 4, lambda 0.7278953843983154\n",
      "Taking degree 4, lambda 1.2689610031679235\n",
      "Taking degree 4, lambda 2.21221629107045\n",
      "Taking degree 4, lambda 3.856620421163472\n",
      "Taking degree 4, lambda 6.723357536499335\n",
      "Taking degree 4, lambda 11.721022975334817\n",
      "Taking degree 4, lambda 20.43359717856944\n",
      "Taking degree 4, lambda 35.622478902624444\n",
      "Taking degree 4, lambda 62.10169418915616\n",
      "Taking degree 4, lambda 108.2636733874054\n",
      "Taking degree 4, lambda 188.73918221350996\n",
      "Taking degree 4, lambda 329.0344562312671\n",
      "Taking degree 4, lambda 573.6152510448682\n",
      "Taking degree 4, lambda 1000.0\n",
      "Best lambda for degree 4: 0.0001 (index 0)\n",
      "Taking degree 5, lambda 0.0001\n",
      "Taking degree 5, lambda 0.00017433288221999874\n",
      "Taking degree 5, lambda 0.0003039195382313198\n",
      "Taking degree 5, lambda 0.0005298316906283707\n",
      "Taking degree 5, lambda 0.0009236708571873865\n",
      "Taking degree 5, lambda 0.0016102620275609393\n",
      "Taking degree 5, lambda 0.0028072162039411755\n",
      "Taking degree 5, lambda 0.004893900918477494\n",
      "Taking degree 5, lambda 0.008531678524172814\n",
      "Taking degree 5, lambda 0.014873521072935119\n",
      "Taking degree 5, lambda 0.02592943797404667\n",
      "Taking degree 5, lambda 0.04520353656360245\n",
      "Taking degree 5, lambda 0.07880462815669913\n",
      "Taking degree 5, lambda 0.1373823795883264\n",
      "Taking degree 5, lambda 0.2395026619987486\n",
      "Taking degree 5, lambda 0.4175318936560405\n",
      "Taking degree 5, lambda 0.7278953843983154\n",
      "Taking degree 5, lambda 1.2689610031679235\n",
      "Taking degree 5, lambda 2.21221629107045\n",
      "Taking degree 5, lambda 3.856620421163472\n",
      "Taking degree 5, lambda 6.723357536499335\n",
      "Taking degree 5, lambda 11.721022975334817\n",
      "Taking degree 5, lambda 20.43359717856944\n",
      "Taking degree 5, lambda 35.622478902624444\n",
      "Taking degree 5, lambda 62.10169418915616\n",
      "Taking degree 5, lambda 108.2636733874054\n",
      "Taking degree 5, lambda 188.73918221350996\n",
      "Taking degree 5, lambda 329.0344562312671\n",
      "Taking degree 5, lambda 573.6152510448682\n",
      "Taking degree 5, lambda 1000.0\n",
      "Best lambda for degree 5: 0.0001 (index 0)\n",
      "Taking degree 6, lambda 0.0001\n",
      "Taking degree 6, lambda 0.00017433288221999874\n",
      "Taking degree 6, lambda 0.0003039195382313198\n",
      "Taking degree 6, lambda 0.0005298316906283707\n",
      "Taking degree 6, lambda 0.0009236708571873865\n",
      "Taking degree 6, lambda 0.0016102620275609393\n",
      "Taking degree 6, lambda 0.0028072162039411755\n",
      "Taking degree 6, lambda 0.004893900918477494\n",
      "Taking degree 6, lambda 0.008531678524172814\n",
      "Taking degree 6, lambda 0.014873521072935119\n",
      "Taking degree 6, lambda 0.02592943797404667\n",
      "Taking degree 6, lambda 0.04520353656360245\n",
      "Taking degree 6, lambda 0.07880462815669913\n",
      "Taking degree 6, lambda 0.1373823795883264\n",
      "Taking degree 6, lambda 0.2395026619987486\n",
      "Taking degree 6, lambda 0.4175318936560405\n",
      "Taking degree 6, lambda 0.7278953843983154\n",
      "Taking degree 6, lambda 1.2689610031679235\n",
      "Taking degree 6, lambda 2.21221629107045\n",
      "Taking degree 6, lambda 3.856620421163472\n",
      "Taking degree 6, lambda 6.723357536499335\n",
      "Taking degree 6, lambda 11.721022975334817\n",
      "Taking degree 6, lambda 20.43359717856944\n",
      "Taking degree 6, lambda 35.622478902624444\n",
      "Taking degree 6, lambda 62.10169418915616\n",
      "Taking degree 6, lambda 108.2636733874054\n",
      "Taking degree 6, lambda 188.73918221350996\n",
      "Taking degree 6, lambda 329.0344562312671\n",
      "Taking degree 6, lambda 573.6152510448682\n",
      "Taking degree 6, lambda 1000.0\n",
      "Best lambda for degree 6: 0.0001 (index 0)\n",
      "Taking degree 7, lambda 0.0001\n",
      "Taking degree 7, lambda 0.00017433288221999874\n",
      "Taking degree 7, lambda 0.0003039195382313198\n",
      "Taking degree 7, lambda 0.0005298316906283707\n",
      "Taking degree 7, lambda 0.0009236708571873865\n",
      "Taking degree 7, lambda 0.0016102620275609393\n",
      "Taking degree 7, lambda 0.0028072162039411755\n",
      "Taking degree 7, lambda 0.004893900918477494\n",
      "Taking degree 7, lambda 0.008531678524172814\n",
      "Taking degree 7, lambda 0.014873521072935119\n",
      "Taking degree 7, lambda 0.02592943797404667\n",
      "Taking degree 7, lambda 0.04520353656360245\n",
      "Taking degree 7, lambda 0.07880462815669913\n",
      "Taking degree 7, lambda 0.1373823795883264\n",
      "Taking degree 7, lambda 0.2395026619987486\n",
      "Taking degree 7, lambda 0.4175318936560405\n",
      "Taking degree 7, lambda 0.7278953843983154\n",
      "Taking degree 7, lambda 1.2689610031679235\n",
      "Taking degree 7, lambda 2.21221629107045\n",
      "Taking degree 7, lambda 3.856620421163472\n",
      "Taking degree 7, lambda 6.723357536499335\n",
      "Taking degree 7, lambda 11.721022975334817\n",
      "Taking degree 7, lambda 20.43359717856944\n",
      "Taking degree 7, lambda 35.622478902624444\n",
      "Taking degree 7, lambda 62.10169418915616\n",
      "Taking degree 7, lambda 108.2636733874054\n",
      "Taking degree 7, lambda 188.73918221350996\n",
      "Taking degree 7, lambda 329.0344562312671\n",
      "Taking degree 7, lambda 573.6152510448682\n",
      "Taking degree 7, lambda 1000.0\n",
      "Best lambda for degree 7: 1000.0 (index 29)\n",
      "Taking degree 8, lambda 0.0001\n",
      "Taking degree 8, lambda 0.00017433288221999874\n",
      "Taking degree 8, lambda 0.0003039195382313198\n",
      "Taking degree 8, lambda 0.0005298316906283707\n",
      "Taking degree 8, lambda 0.0009236708571873865\n",
      "Taking degree 8, lambda 0.0016102620275609393\n",
      "Taking degree 8, lambda 0.0028072162039411755\n",
      "Taking degree 8, lambda 0.004893900918477494\n",
      "Taking degree 8, lambda 0.008531678524172814\n",
      "Taking degree 8, lambda 0.014873521072935119\n",
      "Taking degree 8, lambda 0.02592943797404667\n",
      "Taking degree 8, lambda 0.04520353656360245\n",
      "Taking degree 8, lambda 0.07880462815669913\n",
      "Taking degree 8, lambda 0.1373823795883264\n",
      "Taking degree 8, lambda 0.2395026619987486\n",
      "Taking degree 8, lambda 0.4175318936560405\n",
      "Taking degree 8, lambda 0.7278953843983154\n",
      "Taking degree 8, lambda 1.2689610031679235\n",
      "Taking degree 8, lambda 2.21221629107045\n",
      "Taking degree 8, lambda 3.856620421163472\n",
      "Taking degree 8, lambda 6.723357536499335\n",
      "Taking degree 8, lambda 11.721022975334817\n",
      "Taking degree 8, lambda 20.43359717856944\n",
      "Taking degree 8, lambda 35.622478902624444\n",
      "Taking degree 8, lambda 62.10169418915616\n",
      "Taking degree 8, lambda 108.2636733874054\n",
      "Taking degree 8, lambda 188.73918221350996\n",
      "Taking degree 8, lambda 329.0344562312671\n",
      "Taking degree 8, lambda 573.6152510448682\n",
      "Taking degree 8, lambda 1000.0\n",
      "Best lambda for degree 8: 1000.0 (index 29)\n",
      "Taking degree 9, lambda 0.0001\n",
      "Taking degree 9, lambda 0.00017433288221999874\n",
      "Taking degree 9, lambda 0.0003039195382313198\n",
      "Taking degree 9, lambda 0.0005298316906283707\n",
      "Taking degree 9, lambda 0.0009236708571873865\n",
      "Taking degree 9, lambda 0.0016102620275609393\n",
      "Taking degree 9, lambda 0.0028072162039411755\n",
      "Taking degree 9, lambda 0.004893900918477494\n",
      "Taking degree 9, lambda 0.008531678524172814\n",
      "Taking degree 9, lambda 0.014873521072935119\n",
      "Taking degree 9, lambda 0.02592943797404667\n",
      "Taking degree 9, lambda 0.04520353656360245\n",
      "Taking degree 9, lambda 0.07880462815669913\n",
      "Taking degree 9, lambda 0.1373823795883264\n",
      "Taking degree 9, lambda 0.2395026619987486\n",
      "Taking degree 9, lambda 0.4175318936560405\n",
      "Taking degree 9, lambda 0.7278953843983154\n",
      "Taking degree 9, lambda 1.2689610031679235\n",
      "Taking degree 9, lambda 2.21221629107045\n",
      "Taking degree 9, lambda 3.856620421163472\n",
      "Taking degree 9, lambda 6.723357536499335\n",
      "Taking degree 9, lambda 11.721022975334817\n",
      "Taking degree 9, lambda 20.43359717856944\n",
      "Taking degree 9, lambda 35.622478902624444\n",
      "Taking degree 9, lambda 62.10169418915616\n",
      "Taking degree 9, lambda 108.2636733874054\n",
      "Taking degree 9, lambda 188.73918221350996\n",
      "Taking degree 9, lambda 329.0344562312671\n",
      "Taking degree 9, lambda 573.6152510448682\n",
      "Taking degree 9, lambda 1000.0\n",
      "Best lambda for degree 9: 1000.0 (index 29)\n",
      "Taking degree 10, lambda 0.0001\n",
      "Taking degree 10, lambda 0.00017433288221999874\n",
      "Taking degree 10, lambda 0.0003039195382313198\n",
      "Taking degree 10, lambda 0.0005298316906283707\n",
      "Taking degree 10, lambda 0.0009236708571873865\n",
      "Taking degree 10, lambda 0.0016102620275609393\n",
      "Taking degree 10, lambda 0.0028072162039411755\n",
      "Taking degree 10, lambda 0.004893900918477494\n",
      "Taking degree 10, lambda 0.008531678524172814\n",
      "Taking degree 10, lambda 0.014873521072935119\n",
      "Taking degree 10, lambda 0.02592943797404667\n",
      "Taking degree 10, lambda 0.04520353656360245\n",
      "Taking degree 10, lambda 0.07880462815669913\n",
      "Taking degree 10, lambda 0.1373823795883264\n",
      "Taking degree 10, lambda 0.2395026619987486\n",
      "Taking degree 10, lambda 0.4175318936560405\n",
      "Taking degree 10, lambda 0.7278953843983154\n",
      "Taking degree 10, lambda 1.2689610031679235\n",
      "Taking degree 10, lambda 2.21221629107045\n",
      "Taking degree 10, lambda 3.856620421163472\n",
      "Taking degree 10, lambda 6.723357536499335\n",
      "Taking degree 10, lambda 11.721022975334817\n",
      "Taking degree 10, lambda 20.43359717856944\n",
      "Taking degree 10, lambda 35.622478902624444\n",
      "Taking degree 10, lambda 62.10169418915616\n",
      "Taking degree 10, lambda 108.2636733874054\n",
      "Taking degree 10, lambda 188.73918221350996\n",
      "Taking degree 10, lambda 329.0344562312671\n",
      "Taking degree 10, lambda 573.6152510448682\n",
      "Taking degree 10, lambda 1000.0\n",
      "Best lambda for degree 10: 1000.0 (index 29)\n",
      "Taking degree 11, lambda 0.0001\n",
      "Taking degree 11, lambda 0.00017433288221999874\n",
      "Taking degree 11, lambda 0.0003039195382313198\n",
      "Taking degree 11, lambda 0.0005298316906283707\n",
      "Taking degree 11, lambda 0.0009236708571873865\n",
      "Taking degree 11, lambda 0.0016102620275609393\n",
      "Taking degree 11, lambda 0.0028072162039411755\n",
      "Taking degree 11, lambda 0.004893900918477494\n",
      "Taking degree 11, lambda 0.008531678524172814\n",
      "Taking degree 11, lambda 0.014873521072935119\n",
      "Taking degree 11, lambda 0.02592943797404667\n",
      "Taking degree 11, lambda 0.04520353656360245\n",
      "Taking degree 11, lambda 0.07880462815669913\n",
      "Taking degree 11, lambda 0.1373823795883264\n",
      "Taking degree 11, lambda 0.2395026619987486\n",
      "Taking degree 11, lambda 0.4175318936560405\n",
      "Taking degree 11, lambda 0.7278953843983154\n",
      "Taking degree 11, lambda 1.2689610031679235\n",
      "Taking degree 11, lambda 2.21221629107045\n",
      "Taking degree 11, lambda 3.856620421163472\n",
      "Taking degree 11, lambda 6.723357536499335\n",
      "Taking degree 11, lambda 11.721022975334817\n",
      "Taking degree 11, lambda 20.43359717856944\n",
      "Taking degree 11, lambda 35.622478902624444\n",
      "Taking degree 11, lambda 62.10169418915616\n",
      "Taking degree 11, lambda 108.2636733874054\n",
      "Taking degree 11, lambda 188.73918221350996\n",
      "Taking degree 11, lambda 329.0344562312671\n",
      "Taking degree 11, lambda 573.6152510448682\n",
      "Taking degree 11, lambda 1000.0\n",
      "Best lambda for degree 11: 0.0001 (index 0)\n",
      "Taking degree 12, lambda 0.0001\n",
      "Taking degree 12, lambda 0.00017433288221999874\n",
      "Taking degree 12, lambda 0.0003039195382313198\n",
      "Taking degree 12, lambda 0.0005298316906283707\n",
      "Taking degree 12, lambda 0.0009236708571873865\n",
      "Taking degree 12, lambda 0.0016102620275609393\n",
      "Taking degree 12, lambda 0.0028072162039411755\n",
      "Taking degree 12, lambda 0.004893900918477494\n",
      "Taking degree 12, lambda 0.008531678524172814\n",
      "Taking degree 12, lambda 0.014873521072935119\n",
      "Taking degree 12, lambda 0.02592943797404667\n",
      "Taking degree 12, lambda 0.04520353656360245\n",
      "Taking degree 12, lambda 0.07880462815669913\n",
      "Taking degree 12, lambda 0.1373823795883264\n",
      "Taking degree 12, lambda 0.2395026619987486\n",
      "Taking degree 12, lambda 0.4175318936560405\n",
      "Taking degree 12, lambda 0.7278953843983154\n",
      "Taking degree 12, lambda 1.2689610031679235\n",
      "Taking degree 12, lambda 2.21221629107045\n",
      "Taking degree 12, lambda 3.856620421163472\n",
      "Taking degree 12, lambda 6.723357536499335\n",
      "Taking degree 12, lambda 11.721022975334817\n",
      "Taking degree 12, lambda 20.43359717856944\n",
      "Taking degree 12, lambda 35.622478902624444\n",
      "Taking degree 12, lambda 62.10169418915616\n",
      "Taking degree 12, lambda 108.2636733874054\n",
      "Taking degree 12, lambda 188.73918221350996\n",
      "Taking degree 12, lambda 329.0344562312671\n",
      "Taking degree 12, lambda 573.6152510448682\n",
      "Taking degree 12, lambda 1000.0\n",
      "Best lambda for degree 12: 1000.0 (index 29)\n",
      "Taking degree 13, lambda 0.0001\n",
      "Taking degree 13, lambda 0.00017433288221999874\n",
      "Taking degree 13, lambda 0.0003039195382313198\n",
      "Taking degree 13, lambda 0.0005298316906283707\n",
      "Taking degree 13, lambda 0.0009236708571873865\n",
      "Taking degree 13, lambda 0.0016102620275609393\n",
      "Taking degree 13, lambda 0.0028072162039411755\n",
      "Taking degree 13, lambda 0.004893900918477494\n",
      "Taking degree 13, lambda 0.008531678524172814\n",
      "Taking degree 13, lambda 0.014873521072935119\n",
      "Taking degree 13, lambda 0.02592943797404667\n",
      "Taking degree 13, lambda 0.04520353656360245\n",
      "Taking degree 13, lambda 0.07880462815669913\n",
      "Taking degree 13, lambda 0.1373823795883264\n",
      "Taking degree 13, lambda 0.2395026619987486\n",
      "Taking degree 13, lambda 0.4175318936560405\n",
      "Taking degree 13, lambda 0.7278953843983154\n",
      "Taking degree 13, lambda 1.2689610031679235\n",
      "Taking degree 13, lambda 2.21221629107045\n",
      "Taking degree 13, lambda 3.856620421163472\n",
      "Taking degree 13, lambda 6.723357536499335\n",
      "Taking degree 13, lambda 11.721022975334817\n",
      "Taking degree 13, lambda 20.43359717856944\n",
      "Taking degree 13, lambda 35.622478902624444\n",
      "Taking degree 13, lambda 62.10169418915616\n",
      "Taking degree 13, lambda 108.2636733874054\n",
      "Taking degree 13, lambda 188.73918221350996\n",
      "Taking degree 13, lambda 329.0344562312671\n",
      "Taking degree 13, lambda 573.6152510448682\n",
      "Taking degree 13, lambda 1000.0\n",
      "Best lambda for degree 13: 1000.0 (index 29)\n",
      "2\n",
      "[ 0.82915031  0.80858602  0.79399094  0.79318363  0.78458099  0.78386467\n",
      "  0.77704944  0.77578043  0.77547741  0.76409189  0.78034824  0.78033703]\n",
      "[  8.56444974e-01   1.00917393e+01   1.54760606e+01   4.59391377e+03\n",
      "   2.07968127e+05   3.03393129e+06   1.08020640e+08   2.74452856e+09\n",
      "   2.27658458e+11   1.66817444e+12   1.00865547e+14   1.28160027e+16]\n"
     ]
    }
   ],
   "source": [
    "# now implement cross-validation\n",
    "from model_learning import *\n",
    "from costs import *\n",
    "from build_polynomial import *\n",
    "\n",
    "\n",
    "# define parameters\n",
    "seeds = range(2)#range(100)\n",
    "ratio_train = 0.05#0.005 #TODO: change\n",
    "degrees = [2,3,4,5,6,7, 8, 9, 10, 11, 12, 13]#range(1, 10)\n",
    "lambdas = np.logspace(-4,3,30)#np.logspace(-4, 2, 30)\n",
    "k_fold = 5 # used to determine best lambda for given degree (and seed)\n",
    "\n",
    "\n",
    "\n",
    "#def get_percentage_correct(y, tx, w):\n",
    "#    return np.mean(y == np.sign(tx.dot(w)))\n",
    "\n",
    "def cross_validation_extract_weights(seeds, ratio_train, degrees, lambdas, k_fold):\n",
    "    \n",
    "    # define list to store the variable\n",
    "    rmse_tr = np.empty((len(seeds), len(degrees)))\n",
    "    rmse_te = np.empty((len(seeds), len(degrees)))\n",
    "    \n",
    "    max_iters = 2000\n",
    "    gamma = 0.001\n",
    "    batch_size = 2000\n",
    "    #compute_weightsFunction = lambda y, tx, lamb: ridge_regression_least_squares_weights(\n",
    "    #    y, tx, lamb, gamma, max_iters, batch_size=batch_size)\n",
    "    compute_weightsFunction = exact_ridge_regression_least_squares\n",
    "    compute_lossFunction = compute_mse_loss\n",
    "\n",
    "    #compute_weightsFunction = lambda y, tx, lamb: ridge_regression_logistic_weights(\n",
    "    #    y, tx, lamb, gamma, max_iters, batch_size=batch_size)\n",
    "    #compute_lossFunction = compute_logistic_loss\n",
    "    \n",
    "    # we later on average over the seeds\n",
    "    for index_seed, seed in enumerate(seeds):\n",
    "        print(\"Starting with seed #{}\".format(index_seed))\n",
    "        \n",
    "        (x_tr, y_tr, x_te, y_te) = split_data(tx, prediction, ratio_train, seed=seed)\n",
    "        \n",
    "        #print(x_tr.shape)\n",
    "        #print(y_tr.shape)\n",
    "        #print(compute_lossFunction(y_tr, x_tr, np.repeat(0, x_tr.shape[1])))\n",
    "        \n",
    "        for index_degree, degree in enumerate(degrees):\n",
    "            \n",
    "            # find optimal lambda for this degree by using training set only\n",
    "            \n",
    "            cross_rmse_lambdas = []\n",
    "            for lambda_ in lambdas:\n",
    "                print(\"Taking degree {}, lambda {}\".format(degree, lambda_))\n",
    "                (cross_rmse_tr, cross_rmse_te) = k_cross_validation(\n",
    "                    y_tr, x_tr, k_fold, lambda_, degree, seed,\n",
    "                    compute_weightsFunction=compute_weightsFunction, compute_lossFunction=compute_lossFunction)\n",
    "                \n",
    "                # we are only interested in the error on the test set (part of the training set)\n",
    "                cross_rmse_lambdas.append(cross_rmse_te)\n",
    "            # best lambda corresponds to lambda minimising the testing error for \n",
    "            # k-fold validation on the training set\n",
    "            bestLambdaIndex = np.argmin(cross_rmse_lambdas)\n",
    "            bestLambda = lambdas[bestLambdaIndex]\n",
    "            print(\"Best lambda for degree {}: {} (index {})\".format(degree, bestLambda, bestLambdaIndex))\n",
    "            \n",
    "            # add polynomial features\n",
    "            x_poly_tr = build_poly(x_tr, degree)\n",
    "            x_poly_te = build_poly(x_te, degree)\n",
    "                 \n",
    "            # compute weights with ridge_regression on training set with given lambda (and degree)\n",
    "            weights_tr = compute_weightsFunction(y_tr, x_poly_tr, lamb = bestLambda)\n",
    "            # find the testing error\n",
    "            mse_tr = compute_lossFunction(y_tr, x_poly_tr, weights_tr)\n",
    "            mse_te = compute_lossFunction(y_te, x_poly_te, weights_tr)\n",
    "            rmse_tr_val = np.sqrt(2*mse_tr)\n",
    "            rmse_te_val = np.sqrt(2*mse_te)\n",
    "            \n",
    "            #rmse_tr_val = get_percentage_correct(y_tr, x_poly_tr, weights_tr)\n",
    "            #rmse_te_val = get_percentage_correct(y_te, x_poly_te, weights_tr)\n",
    "                    \n",
    "            rmse_tr[index_seed, index_degree] = rmse_tr_val\n",
    "            rmse_te[index_seed, index_degree] = rmse_te_val\n",
    "            \n",
    "    # mean over all seeds, then just have for each degree\n",
    "    mean_rmse_tr = np.mean(rmse_tr, axis=0)\n",
    "    mean_rmse_te = np.mean(rmse_te, axis=0)\n",
    "    \n",
    "    return (mean_rmse_tr, mean_rmse_te)\n",
    "\n",
    "\n",
    "\n",
    "(mean_rmse_tr, mean_rmse_te) = cross_validation_extract_weights(seeds, ratio_train, degrees, lambdas, k_fold)\n",
    "\n",
    "bestDegree = degrees[np.argmin(mean_rmse_te)]\n",
    "#bestDegree = degrees[np.argmax(mean_rmse_te)]\n",
    "\n",
    "#seed = np.random.seed()\n",
    "print(bestDegree)\n",
    "    \n",
    "print(mean_rmse_tr)\n",
    "print(mean_rmse_te)"
   ]
  },
  {
   "cell_type": "code",
   "execution_count": 174,
   "metadata": {
    "collapsed": false
   },
   "outputs": [
    {
     "data": {
      "text/plain": [
       "2"
      ]
     },
     "execution_count": 174,
     "metadata": {},
     "output_type": "execute_result"
    }
   ],
   "source": [
    "bestDegree"
   ]
  },
  {
   "cell_type": "markdown",
   "metadata": {},
   "source": [
    "# Estimate Testing Error"
   ]
  },
  {
   "cell_type": "code",
   "execution_count": 99,
   "metadata": {
    "collapsed": true
   },
   "outputs": [],
   "source": [
    "def get_fraction_correct(y, tx, w):\n",
    "    return np.mean(y == np.sign(tx.dot(w)))"
   ]
  },
  {
   "cell_type": "code",
   "execution_count": null,
   "metadata": {
    "collapsed": false
   },
   "outputs": [
    {
     "name": "stdout",
     "output_type": "stream",
     "text": [
      "Recomputed\n",
      "(12500, 1820)\n",
      "(12500, 108)\n"
     ]
    }
   ],
   "source": [
    "#bestDegree = 5\n",
    "#bestLambda = 0.2395026619987486#10#0.5#0.02592943797404667\n",
    "\n",
    "bestDegree = 5\n",
    "bestLambda = 573.6152510448682\n",
    "\n",
    "bestDegree = 13\n",
    "bestLambda = 1#0.1373823795883264\n",
    "\n",
    "compute_weightsFunction = exact_ridge_regression_least_squares\n",
    "compute_lossFunction = compute_mse_loss\n",
    "seed = 1\n",
    "ratio_train = 0.05\n",
    "\n",
    "(x_tr, y_tr, x_te, y_te) = split_data(tx, prediction, ratio_train, seed=seed)\n",
    "\n",
    "# add polynomial features\n",
    "x_poly_tr = build_poly(x_tr, bestDegree)\n",
    "x_poly_te = build_poly(x_te, bestDegree)\n",
    "\n",
    "# compute weights with ridge_regression on training set with given lambda (and degree)\n",
    "weights_tr = compute_weightsFunction(y_tr, x_poly_tr, lamb = bestLambda)\n",
    "# find the testing error\n",
    "#mse_tr = compute_lossFunction(y_tr, x_poly_tr, weights_tr)\n",
    "#mse_te = compute_lossFunction(y_te, x_poly_te, weights_tr)\n",
    "#rmse_tr_val = np.sqrt(2*mse_tr)\n",
    "#rmse_te_val = np.sqrt(2*mse_te)\n",
    "\n",
    "#y_te_pred = predict_labels(weights_tr, x_te)\n",
    "\n",
    "weights_real = weights_tr # used for real data\n",
    "\n",
    "get_fraction_correct(y_tr, x_poly_tr, weights_tr)"
   ]
  },
  {
   "cell_type": "code",
   "execution_count": 241,
   "metadata": {
    "collapsed": true
   },
   "outputs": [],
   "source": [
    "# Import data\n",
    "filenameNew = 'test.csv'\n",
    "prediction_wrong, x_real_raw, ids_real = load_csv_data(filenameNew, sub_sample=False)"
   ]
  },
  {
   "cell_type": "code",
   "execution_count": 243,
   "metadata": {
    "collapsed": false
   },
   "outputs": [
    {
     "name": "stdout",
     "output_type": "stream",
     "text": [
      "(568238, 455)\n",
      "(568238, 120)\n"
     ]
    }
   ],
   "source": [
    "\n",
    "#tx_real, mean_x_wrong, std_x_wrong = clean_data_and_standardize(x_real_raw, mean_x=mean_x, std_x=std_x)\n",
    "(tx_real, mean_x_wrong, std_x_wrong, toPCABasis_fcn_unused) = clean_data_and_standardize(\n",
    "    x_real_raw, varianceToKeep=None, toPCABasis_fcn=toPCABasis_fcn, mean_x=mean_x, std_x=std_x)\n",
    "\n",
    "#tx_real, mean_x_wrong, std_x_wrong = standardize(x_real_raw, mean_x=mean_x, std_x=std_x)\n",
    "\n",
    "x_poly_real = build_poly(tx_real, bestDegree)\n",
    "\n",
    "y_pred = predict_labels(weights_real, x_poly_real)\n",
    "\n",
    "create_csv_submission(ids_real, y_pred, 'submission.csv')"
   ]
  },
  {
   "cell_type": "code",
   "execution_count": 244,
   "metadata": {
    "collapsed": false
   },
   "outputs": [
    {
     "name": "stdout",
     "output_type": "stream",
     "text": [
      "0.307138910105\n",
      "568238\n"
     ]
    }
   ],
   "source": [
    "print(sum(y_pred == 1) / len(y_pred))\n",
    "print(len(y_pred))"
   ]
  },
  {
   "cell_type": "code",
   "execution_count": 508,
   "metadata": {
    "collapsed": false
   },
   "outputs": [
    {
     "name": "stdout",
     "output_type": "stream",
     "text": [
      "[ 0.7482  0.7742  0.78    0.7404]\n",
      "[ 0.73925455  0.76257778  0.7725899   0.73132929]\n",
      "3\n"
     ]
    }
   ],
   "source": [
    "print(mean_rmse_tr)\n",
    "print(mean_rmse_te)\n",
    "\n",
    "bestDegree = degrees[np.argmax(mean_rmse_te)]\n",
    "print(bestDegree)"
   ]
  },
  {
   "cell_type": "code",
   "execution_count": null,
   "metadata": {
    "collapsed": false
   },
   "outputs": [],
   "source": [
    "final_weights = weights[-1]"
   ]
  },
  {
   "cell_type": "code",
   "execution_count": 26,
   "metadata": {
    "collapsed": false
   },
   "outputs": [],
   "source": [
    "filenameNew = 'test.csv'\n",
    "prediction_wrong, x_new_raw, ids_new = load_csv_data(filenameNew, sub_sample=False)\n",
    "\n",
    "tx_new, mean_x_new, std_x_new = standardize(x_new_raw, mean_x=mean_x, std_x=std_x)\n",
    "\n",
    "#TODO: add build_poly\n",
    "y_pred = predict_labels(final_weights, tx_new)\n",
    "\n",
    "create_csv_submission(ids_new, y_pred, 'submission.csv')"
   ]
  },
  {
   "cell_type": "code",
   "execution_count": 218,
   "metadata": {
    "collapsed": false
   },
   "outputs": [
    {
     "name": "stdout",
     "output_type": "stream",
     "text": [
      "2 1 2\n"
     ]
    }
   ],
   "source": [
    "f = lambda x,y: print(y, x, y)\n",
    "f(1,2)"
   ]
  },
  {
   "cell_type": "code",
   "execution_count": 27,
   "metadata": {
    "collapsed": false
   },
   "outputs": [
    {
     "name": "stdout",
     "output_type": "stream",
     "text": [
      "5.9M\tsubmission.csv\r\n",
      "105M\ttest.csv\r\n"
     ]
    }
   ],
   "source": [
    "! du -h submission.csv test.csv\n",
    "#! cat submission.csv | head"
   ]
  },
  {
   "cell_type": "code",
   "execution_count": 28,
   "metadata": {
    "collapsed": false
   },
   "outputs": [
    {
     "data": {
      "text/plain": [
       "array([False, False, False, ..., False,  True, False], dtype=bool)"
      ]
     },
     "execution_count": 28,
     "metadata": {},
     "output_type": "execute_result"
    }
   ],
   "source": [
    "y_pred == 1"
   ]
  },
  {
   "cell_type": "code",
   "execution_count": 35,
   "metadata": {
    "collapsed": false
   },
   "outputs": [
    {
     "data": {
      "text/plain": [
       "568238"
      ]
     },
     "execution_count": 35,
     "metadata": {},
     "output_type": "execute_result"
    }
   ],
   "source": [
    "#len(tx_new)\n",
    "#len(x_new_raw)\n",
    "#len(prediction_wrong)\n",
    "len(y_pred)\n",
    "len(ids_new)"
   ]
  },
  {
   "cell_type": "code",
   "execution_count": 1,
   "metadata": {
    "collapsed": false
   },
   "outputs": [
    {
     "name": "stdout",
     "output_type": "stream",
     "text": [
      "Id,Prediction\r",
      "\r\n",
      "350000,-1\r",
      "\r\n",
      "350001,-1\r",
      "\r\n",
      "350002,-1\r",
      "\r\n",
      "350003,-1\r",
      "\r\n",
      "350004,-1\r",
      "\r\n",
      "350005,-1\r",
      "\r\n",
      "350006,-1\r",
      "\r\n",
      "350007,-1\r",
      "\r\n",
      "350008,-1\r",
      "\r\n",
      "cat: write error: Broken pipe\r\n"
     ]
    }
   ],
   "source": [
    "cat submission.csv | head"
   ]
  },
  {
   "cell_type": "code",
   "execution_count": null,
   "metadata": {
    "collapsed": true
   },
   "outputs": [],
   "source": []
  }
 ],
 "metadata": {
  "anaconda-cloud": {},
  "kernelspec": {
   "display_name": "Python [Root]",
   "language": "python",
   "name": "Python [Root]"
  },
  "language_info": {
   "codemirror_mode": {
    "name": "ipython",
    "version": 3
   },
   "file_extension": ".py",
   "mimetype": "text/x-python",
   "name": "python",
   "nbconvert_exporter": "python",
   "pygments_lexer": "ipython3",
   "version": "3.5.2"
  }
 },
 "nbformat": 4,
 "nbformat_minor": 0
}
