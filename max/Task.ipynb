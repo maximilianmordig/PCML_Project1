{
 "cells": [
  {
   "cell_type": "code",
   "execution_count": 8,
   "metadata": {
    "collapsed": false
   },
   "outputs": [
    {
     "name": "stdout",
     "output_type": "stream",
     "text": [
      "The autoreload extension is already loaded. To reload it, use:\n",
      "  %reload_ext autoreload\n"
     ]
    }
   ],
   "source": [
    "# Useful starting lines\n",
    "%matplotlib inline\n",
    "import numpy as np\n",
    "import matplotlib.pyplot as plt\n",
    "%load_ext autoreload\n",
    "%autoreload 2"
   ]
  },
  {
   "cell_type": "markdown",
   "metadata": {},
   "source": [
    "# Load data"
   ]
  },
  {
   "cell_type": "code",
   "execution_count": 16,
   "metadata": {
    "collapsed": true
   },
   "outputs": [],
   "source": [
    "from helpers import *\n",
    "from model_learning import *\n",
    "import datetime"
   ]
  },
  {
   "cell_type": "code",
   "execution_count": 17,
   "metadata": {
    "collapsed": false
   },
   "outputs": [],
   "source": [
    "filename = 'train.csv'\n",
    "prediction, x_raw, ids = load_csv_data(filename, sub_sample=False)"
   ]
  },
  {
   "cell_type": "code",
   "execution_count": 18,
   "metadata": {
    "collapsed": false
   },
   "outputs": [],
   "source": [
    "tx, mean_x, std_x = standardize(x_raw)"
   ]
  },
  {
   "cell_type": "code",
   "execution_count": 22,
   "metadata": {
    "collapsed": false
   },
   "outputs": [
    {
     "data": {
      "text/plain": [
       "(250000, 31)"
      ]
     },
     "execution_count": 22,
     "metadata": {},
     "output_type": "execute_result"
    }
   ],
   "source": [
    "# TODO: preprocess data, remove -999\n",
    "max(1,2)\n",
    "tx.shape"
   ]
  },
  {
   "cell_type": "code",
   "execution_count": 24,
   "metadata": {
    "collapsed": false
   },
   "outputs": [
    {
     "name": "stdout",
     "output_type": "stream",
     "text": [
      "Gradient Descent(0/499): loss=1203.1709282544261, w0=8.968533599999976, w1=5.774370699052652\n",
      "Gradient Descent(25/499): loss=6.894809919590646, w0=0.35177488763851594, w1=1.2581298185295573\n",
      "Gradient Descent(50/499): loss=1.8294212582337173, w0=-0.26682048636448136, w1=0.3697081066520757\n",
      "Gradient Descent(75/499): loss=0.9592842438919942, w0=-0.3112293237836978, w1=0.06460903263984319\n",
      "Gradient Descent(100/499): loss=0.6375441879310891, w0=-0.31441742528559524, w1=-0.01709042116901108\n",
      "Gradient Descent(125/499): loss=0.49123667848441777, w0=-0.3146462984508725, w1=-0.024603082000558787\n",
      "Gradient Descent(150/499): loss=0.4197153459447174, w0=-0.31466272920935245, w1=-0.012251318425087834\n",
      "Gradient Descent(175/499): loss=0.38348371765671285, w0=-0.31466390877019873, w1=0.0021277614066388503\n",
      "Gradient Descent(200/499): loss=0.3646120291650797, w0=-0.31466399345063606, w1=0.013687663020401817\n",
      "Gradient Descent(225/499): loss=0.3545007243776492, w0=-0.314663999529829, w1=0.021846165157195216\n",
      "Gradient Descent(250/499): loss=0.348913398776178, w0=-0.3146639999662544, w1=0.027201812610645956\n",
      "Gradient Descent(275/499): loss=0.34572033724825413, w0=-0.3146639999975863, w1=0.030518573671641944\n",
      "Gradient Descent(300/499): loss=0.34382887902933695, w0=-0.3146639999998367, w1=0.032439157690198214\n",
      "Gradient Descent(325/499): loss=0.34266584828413627, w0=-0.31466399999999906, w1=0.03343929245570722\n",
      "Gradient Descent(350/499): loss=0.3419231989772263, w0=-0.31466400000001143, w1=0.03385132006665331\n",
      "Gradient Descent(375/499): loss=0.34143102723058344, w0=-0.31466400000001304, w1=0.033900088966039056\n",
      "Gradient Descent(400/499): loss=0.3410930485031935, w0=-0.31466400000001354, w1=0.03373445110542828\n",
      "Gradient Descent(425/499): loss=0.34085316285451994, w0=-0.31466400000001393, w1=0.0334511339474163\n",
      "Gradient Descent(450/499): loss=0.34067775385194726, w0=-0.3146640000000144, w1=0.03311176006102124\n",
      "Gradient Descent(475/499): loss=0.34054610204452207, w0=-0.31466400000001465, w1=0.03275461949961591\n",
      "Gradient Descent: execution time=9.995 seconds\n"
     ]
    }
   ],
   "source": [
    "#from plots import gradient_descent_visualization\n",
    "\n",
    "nbFeatures = tx.shape[1]\n",
    "\n",
    "# Define the parameters of the algorithm.\n",
    "max_iters = 500000\n",
    "gamma = 0.01\n",
    "# Initialization\n",
    "w_initial = np.array([10]*nbFeatures)\n",
    "\n",
    "max_iters = 500\n",
    "gamma = 0.1\n",
    "w_initial = np.array([10]*nbFeatures)\n",
    "\n",
    "# Start gradient descent.\n",
    "start_time = datetime.datetime.now()\n",
    "gradient_losses, weights = gradient_descent(prediction, tx, w_initial, max_iters, gamma)\n",
    "end_time = datetime.datetime.now()\n",
    "\n",
    "# Print result\n",
    "execution_time = (end_time - start_time).total_seconds()\n",
    "print(\"Gradient Descent: execution time={t:.3f} seconds\".format(t=execution_time))"
   ]
  },
  {
   "cell_type": "code",
   "execution_count": 25,
   "metadata": {
    "collapsed": false
   },
   "outputs": [],
   "source": [
    "final_weights = weights[-1]"
   ]
  },
  {
   "cell_type": "code",
   "execution_count": 26,
   "metadata": {
    "collapsed": false
   },
   "outputs": [],
   "source": [
    "filenameNew = 'test.csv'\n",
    "prediction_wrong, x_new_raw, ids_new = load_csv_data(filenameNew, sub_sample=False)\n",
    "\n",
    "tx_new, mean_x_new, std_x_new = standardize(x_new_raw, mean_x=mean_x, std_x=std_x)\n",
    "\n",
    "y_pred = predict_labels(final_weights, tx_new)\n",
    "\n",
    "create_csv_submission(ids_new, y_pred, 'submission.csv')"
   ]
  },
  {
   "cell_type": "code",
   "execution_count": null,
   "metadata": {
    "collapsed": true
   },
   "outputs": [],
   "source": []
  },
  {
   "cell_type": "code",
   "execution_count": 27,
   "metadata": {
    "collapsed": false
   },
   "outputs": [
    {
     "name": "stdout",
     "output_type": "stream",
     "text": [
      "5.9M\tsubmission.csv\r\n",
      "105M\ttest.csv\r\n"
     ]
    }
   ],
   "source": [
    "! du -h submission.csv test.csv\n",
    "#! cat submission.csv | head"
   ]
  },
  {
   "cell_type": "code",
   "execution_count": 28,
   "metadata": {
    "collapsed": false
   },
   "outputs": [
    {
     "data": {
      "text/plain": [
       "array([False, False, False, ..., False,  True, False], dtype=bool)"
      ]
     },
     "execution_count": 28,
     "metadata": {},
     "output_type": "execute_result"
    }
   ],
   "source": [
    "y_pred == 1"
   ]
  },
  {
   "cell_type": "code",
   "execution_count": 35,
   "metadata": {
    "collapsed": false
   },
   "outputs": [
    {
     "data": {
      "text/plain": [
       "568238"
      ]
     },
     "execution_count": 35,
     "metadata": {},
     "output_type": "execute_result"
    }
   ],
   "source": [
    "#len(tx_new)\n",
    "#len(x_new_raw)\n",
    "#len(prediction_wrong)\n",
    "len(y_pred)\n",
    "len(ids_new)"
   ]
  },
  {
   "cell_type": "code",
   "execution_count": 31,
   "metadata": {
    "collapsed": false
   },
   "outputs": [
    {
     "name": "stdout",
     "output_type": "stream",
     "text": [
      "Id,Prediction\r",
      "\r\n",
      "350000,-1\r",
      "\r\n",
      "350001,-1\r",
      "\r\n",
      "350002,-1\r",
      "\r\n",
      "350003,-1\r",
      "\r\n",
      "350004,-1\r",
      "\r\n",
      "350005,-1\r",
      "\r\n",
      "350006,-1\r",
      "\r\n",
      "350007,-1\r",
      "\r\n",
      "350008,-1\r",
      "\r\n",
      "cat: write error: Broken pipe\r\n"
     ]
    }
   ],
   "source": [
    "cat submission.csv | head"
   ]
  },
  {
   "cell_type": "code",
   "execution_count": null,
   "metadata": {
    "collapsed": true
   },
   "outputs": [],
   "source": []
  }
 ],
 "metadata": {
  "anaconda-cloud": {},
  "kernelspec": {
   "display_name": "Python [Root]",
   "language": "python",
   "name": "Python [Root]"
  },
  "language_info": {
   "codemirror_mode": {
    "name": "ipython",
    "version": 3
   },
   "file_extension": ".py",
   "mimetype": "text/x-python",
   "name": "python",
   "nbconvert_exporter": "python",
   "pygments_lexer": "ipython3",
   "version": "3.5.2"
  }
 },
 "nbformat": 4,
 "nbformat_minor": 0
}
